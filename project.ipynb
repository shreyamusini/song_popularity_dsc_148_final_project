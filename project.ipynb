{
 "cells": [
  {
   "cell_type": "code",
   "execution_count": 2,
   "metadata": {},
   "outputs": [
    {
     "name": "stdout",
     "output_type": "stream",
     "text": [
      "Requirement already satisfied: plotly in c:\\users\\vinut\\appdata\\local\\packages\\pythonsoftwarefoundation.python.3.11_qbz5n2kfra8p0\\localcache\\local-packages\\python311\\site-packages (6.0.0)\n",
      "Requirement already satisfied: narwhals>=1.15.1 in c:\\users\\vinut\\appdata\\local\\packages\\pythonsoftwarefoundation.python.3.11_qbz5n2kfra8p0\\localcache\\local-packages\\python311\\site-packages (from plotly) (1.30.0)\n",
      "Requirement already satisfied: packaging in c:\\users\\vinut\\appdata\\local\\packages\\pythonsoftwarefoundation.python.3.11_qbz5n2kfra8p0\\localcache\\local-packages\\python311\\site-packages (from plotly) (24.0)\n"
     ]
    },
    {
     "name": "stderr",
     "output_type": "stream",
     "text": [
      "\n",
      "[notice] A new release of pip is available: 24.0 -> 25.0.1\n",
      "[notice] To update, run: C:\\Users\\vinut\\AppData\\Local\\Microsoft\\WindowsApps\\PythonSoftwareFoundation.Python.3.11_qbz5n2kfra8p0\\python.exe -m pip install --upgrade pip\n"
     ]
    }
   ],
   "source": [
    "!pip install plotly"
   ]
  },
  {
   "cell_type": "code",
   "execution_count": 3,
   "metadata": {},
   "outputs": [],
   "source": [
    "import pandas as pd\n",
    "import numpy as np\n",
    "import plotly.express as px\n",
    "import matplotlib.pyplot as plt\n",
    "import seaborn as sns"
   ]
  },
  {
   "cell_type": "code",
   "execution_count": 4,
   "metadata": {},
   "outputs": [],
   "source": [
    "high = pd.read_csv(r'C:\\Users\\vinut\\OneDrive\\Desktop\\DSC148\\final_project\\high_popularity_spotify_data.csv')\n",
    "low = pd.read_csv(r'C:\\Users\\vinut\\OneDrive\\Desktop\\DSC148\\final_project\\low_popularity_spotify_data.csv')"
   ]
  },
  {
   "cell_type": "code",
   "execution_count": 5,
   "metadata": {},
   "outputs": [
    {
     "data": {
      "text/html": [
       "<div>\n",
       "<style scoped>\n",
       "    .dataframe tbody tr th:only-of-type {\n",
       "        vertical-align: middle;\n",
       "    }\n",
       "\n",
       "    .dataframe tbody tr th {\n",
       "        vertical-align: top;\n",
       "    }\n",
       "\n",
       "    .dataframe thead th {\n",
       "        text-align: right;\n",
       "    }\n",
       "</style>\n",
       "<table border=\"1\" class=\"dataframe\">\n",
       "  <thead>\n",
       "    <tr style=\"text-align: right;\">\n",
       "      <th></th>\n",
       "      <th>energy</th>\n",
       "      <th>tempo</th>\n",
       "      <th>danceability</th>\n",
       "      <th>playlist_genre</th>\n",
       "      <th>loudness</th>\n",
       "      <th>liveness</th>\n",
       "      <th>valence</th>\n",
       "      <th>track_artist</th>\n",
       "      <th>time_signature</th>\n",
       "      <th>speechiness</th>\n",
       "      <th>...</th>\n",
       "      <th>instrumentalness</th>\n",
       "      <th>track_album_id</th>\n",
       "      <th>mode</th>\n",
       "      <th>key</th>\n",
       "      <th>duration_ms</th>\n",
       "      <th>acousticness</th>\n",
       "      <th>id</th>\n",
       "      <th>playlist_subgenre</th>\n",
       "      <th>type</th>\n",
       "      <th>playlist_id</th>\n",
       "    </tr>\n",
       "  </thead>\n",
       "  <tbody>\n",
       "    <tr>\n",
       "      <th>0</th>\n",
       "      <td>0.592</td>\n",
       "      <td>157.969</td>\n",
       "      <td>0.521</td>\n",
       "      <td>pop</td>\n",
       "      <td>-7.777</td>\n",
       "      <td>0.1220</td>\n",
       "      <td>0.535</td>\n",
       "      <td>Lady Gaga, Bruno Mars</td>\n",
       "      <td>3</td>\n",
       "      <td>0.0304</td>\n",
       "      <td>...</td>\n",
       "      <td>0.000000</td>\n",
       "      <td>10FLjwfpbxLmW8c25Xyc2N</td>\n",
       "      <td>0</td>\n",
       "      <td>6</td>\n",
       "      <td>251668</td>\n",
       "      <td>0.3080</td>\n",
       "      <td>2plbrEY59IikOBgBGLjaoe</td>\n",
       "      <td>mainstream</td>\n",
       "      <td>audio_features</td>\n",
       "      <td>37i9dQZF1DXcBWIGoYBM5M</td>\n",
       "    </tr>\n",
       "    <tr>\n",
       "      <th>1</th>\n",
       "      <td>0.507</td>\n",
       "      <td>104.978</td>\n",
       "      <td>0.747</td>\n",
       "      <td>pop</td>\n",
       "      <td>-10.171</td>\n",
       "      <td>0.1170</td>\n",
       "      <td>0.438</td>\n",
       "      <td>Billie Eilish</td>\n",
       "      <td>4</td>\n",
       "      <td>0.0358</td>\n",
       "      <td>...</td>\n",
       "      <td>0.060800</td>\n",
       "      <td>7aJuG4TFXa2hmE4z1yxc3n</td>\n",
       "      <td>1</td>\n",
       "      <td>2</td>\n",
       "      <td>210373</td>\n",
       "      <td>0.2000</td>\n",
       "      <td>6dOtVTDdiauQNBQEDOtlAB</td>\n",
       "      <td>mainstream</td>\n",
       "      <td>audio_features</td>\n",
       "      <td>37i9dQZF1DXcBWIGoYBM5M</td>\n",
       "    </tr>\n",
       "    <tr>\n",
       "      <th>2</th>\n",
       "      <td>0.808</td>\n",
       "      <td>108.548</td>\n",
       "      <td>0.554</td>\n",
       "      <td>pop</td>\n",
       "      <td>-4.169</td>\n",
       "      <td>0.1590</td>\n",
       "      <td>0.372</td>\n",
       "      <td>Gracie Abrams</td>\n",
       "      <td>4</td>\n",
       "      <td>0.0368</td>\n",
       "      <td>...</td>\n",
       "      <td>0.000000</td>\n",
       "      <td>0hBRqPYPXhr1RkTDG3n4Mk</td>\n",
       "      <td>1</td>\n",
       "      <td>1</td>\n",
       "      <td>166300</td>\n",
       "      <td>0.2140</td>\n",
       "      <td>7ne4VBA60CxGM75vw0EYad</td>\n",
       "      <td>mainstream</td>\n",
       "      <td>audio_features</td>\n",
       "      <td>37i9dQZF1DXcBWIGoYBM5M</td>\n",
       "    </tr>\n",
       "    <tr>\n",
       "      <th>3</th>\n",
       "      <td>0.910</td>\n",
       "      <td>112.966</td>\n",
       "      <td>0.670</td>\n",
       "      <td>pop</td>\n",
       "      <td>-4.070</td>\n",
       "      <td>0.3040</td>\n",
       "      <td>0.786</td>\n",
       "      <td>Sabrina Carpenter</td>\n",
       "      <td>4</td>\n",
       "      <td>0.0634</td>\n",
       "      <td>...</td>\n",
       "      <td>0.000000</td>\n",
       "      <td>4B4Elma4nNDUyl6D5PvQkj</td>\n",
       "      <td>0</td>\n",
       "      <td>0</td>\n",
       "      <td>157280</td>\n",
       "      <td>0.0939</td>\n",
       "      <td>1d7Ptw3qYcfpdLNL5REhtJ</td>\n",
       "      <td>mainstream</td>\n",
       "      <td>audio_features</td>\n",
       "      <td>37i9dQZF1DXcBWIGoYBM5M</td>\n",
       "    </tr>\n",
       "    <tr>\n",
       "      <th>4</th>\n",
       "      <td>0.783</td>\n",
       "      <td>149.027</td>\n",
       "      <td>0.777</td>\n",
       "      <td>pop</td>\n",
       "      <td>-4.477</td>\n",
       "      <td>0.3550</td>\n",
       "      <td>0.939</td>\n",
       "      <td>ROSÉ, Bruno Mars</td>\n",
       "      <td>4</td>\n",
       "      <td>0.2600</td>\n",
       "      <td>...</td>\n",
       "      <td>0.000000</td>\n",
       "      <td>2IYQwwgxgOIn7t3iF6ufFD</td>\n",
       "      <td>0</td>\n",
       "      <td>0</td>\n",
       "      <td>169917</td>\n",
       "      <td>0.0283</td>\n",
       "      <td>5vNRhkKd0yEAg8suGBpjeY</td>\n",
       "      <td>mainstream</td>\n",
       "      <td>audio_features</td>\n",
       "      <td>37i9dQZF1DXcBWIGoYBM5M</td>\n",
       "    </tr>\n",
       "    <tr>\n",
       "      <th>...</th>\n",
       "      <td>...</td>\n",
       "      <td>...</td>\n",
       "      <td>...</td>\n",
       "      <td>...</td>\n",
       "      <td>...</td>\n",
       "      <td>...</td>\n",
       "      <td>...</td>\n",
       "      <td>...</td>\n",
       "      <td>...</td>\n",
       "      <td>...</td>\n",
       "      <td>...</td>\n",
       "      <td>...</td>\n",
       "      <td>...</td>\n",
       "      <td>...</td>\n",
       "      <td>...</td>\n",
       "      <td>...</td>\n",
       "      <td>...</td>\n",
       "      <td>...</td>\n",
       "      <td>...</td>\n",
       "      <td>...</td>\n",
       "      <td>...</td>\n",
       "    </tr>\n",
       "    <tr>\n",
       "      <th>1681</th>\n",
       "      <td>0.422</td>\n",
       "      <td>124.357</td>\n",
       "      <td>0.573</td>\n",
       "      <td>latin</td>\n",
       "      <td>-7.621</td>\n",
       "      <td>0.1020</td>\n",
       "      <td>0.693</td>\n",
       "      <td>Libianca</td>\n",
       "      <td>5</td>\n",
       "      <td>0.0678</td>\n",
       "      <td>...</td>\n",
       "      <td>0.000013</td>\n",
       "      <td>5Hmh6N8oisrcuZKa8EY5dn</td>\n",
       "      <td>0</td>\n",
       "      <td>10</td>\n",
       "      <td>184791</td>\n",
       "      <td>0.5510</td>\n",
       "      <td>26b3oVLrRUaaybJulow9kz</td>\n",
       "      <td>afro-latin</td>\n",
       "      <td>audio_features</td>\n",
       "      <td>0oU30cCr8klmMsuOKHDLkh</td>\n",
       "    </tr>\n",
       "    <tr>\n",
       "      <th>1682</th>\n",
       "      <td>0.725</td>\n",
       "      <td>105.016</td>\n",
       "      <td>0.711</td>\n",
       "      <td>latin</td>\n",
       "      <td>-8.315</td>\n",
       "      <td>0.1100</td>\n",
       "      <td>0.530</td>\n",
       "      <td>Omah Lay</td>\n",
       "      <td>4</td>\n",
       "      <td>0.0941</td>\n",
       "      <td>...</td>\n",
       "      <td>0.129000</td>\n",
       "      <td>5NLjxx8nRy9ooUmgpOvfem</td>\n",
       "      <td>0</td>\n",
       "      <td>3</td>\n",
       "      <td>183057</td>\n",
       "      <td>0.4240</td>\n",
       "      <td>1wADwLSkYhrSmy4vdy6BRn</td>\n",
       "      <td>afro-latin</td>\n",
       "      <td>audio_features</td>\n",
       "      <td>0oU30cCr8klmMsuOKHDLkh</td>\n",
       "    </tr>\n",
       "    <tr>\n",
       "      <th>1683</th>\n",
       "      <td>0.809</td>\n",
       "      <td>99.005</td>\n",
       "      <td>0.724</td>\n",
       "      <td>latin</td>\n",
       "      <td>-5.022</td>\n",
       "      <td>0.0765</td>\n",
       "      <td>0.606</td>\n",
       "      <td>Davido, FAVE</td>\n",
       "      <td>4</td>\n",
       "      <td>0.0929</td>\n",
       "      <td>...</td>\n",
       "      <td>0.000000</td>\n",
       "      <td>6lI21W76LD0S3vC55GrfSS</td>\n",
       "      <td>0</td>\n",
       "      <td>6</td>\n",
       "      <td>194040</td>\n",
       "      <td>0.1820</td>\n",
       "      <td>7vKXc90NT5WBm3UTT4iTVG</td>\n",
       "      <td>afro-latin</td>\n",
       "      <td>audio_features</td>\n",
       "      <td>0oU30cCr8klmMsuOKHDLkh</td>\n",
       "    </tr>\n",
       "    <tr>\n",
       "      <th>1684</th>\n",
       "      <td>0.642</td>\n",
       "      <td>83.389</td>\n",
       "      <td>0.463</td>\n",
       "      <td>latin</td>\n",
       "      <td>-4.474</td>\n",
       "      <td>0.0686</td>\n",
       "      <td>0.339</td>\n",
       "      <td>Future, Drake, Tems</td>\n",
       "      <td>4</td>\n",
       "      <td>0.3400</td>\n",
       "      <td>...</td>\n",
       "      <td>0.000000</td>\n",
       "      <td>6tE9Dnp2zInFij4jKssysL</td>\n",
       "      <td>1</td>\n",
       "      <td>1</td>\n",
       "      <td>189893</td>\n",
       "      <td>0.3140</td>\n",
       "      <td>59nOXPmaKlBfGMDeOVGrIK</td>\n",
       "      <td>afro-latin</td>\n",
       "      <td>audio_features</td>\n",
       "      <td>0oU30cCr8klmMsuOKHDLkh</td>\n",
       "    </tr>\n",
       "    <tr>\n",
       "      <th>1685</th>\n",
       "      <td>0.890</td>\n",
       "      <td>126.881</td>\n",
       "      <td>0.645</td>\n",
       "      <td>pop</td>\n",
       "      <td>-4.985</td>\n",
       "      <td>0.3760</td>\n",
       "      <td>0.421</td>\n",
       "      <td>Alan Walker, Ina Wroldsen</td>\n",
       "      <td>4</td>\n",
       "      <td>0.1280</td>\n",
       "      <td>...</td>\n",
       "      <td>0.000009</td>\n",
       "      <td>34yBJhr8zlBAHMEMSwrISN</td>\n",
       "      <td>1</td>\n",
       "      <td>6</td>\n",
       "      <td>205087</td>\n",
       "      <td>0.2590</td>\n",
       "      <td>2GE3k8I0Sbh0puCjI15KGy</td>\n",
       "      <td>scandi</td>\n",
       "      <td>audio_features</td>\n",
       "      <td>59z06GgF6TTDbm5cr1RZUC</td>\n",
       "    </tr>\n",
       "  </tbody>\n",
       "</table>\n",
       "<p>1686 rows × 29 columns</p>\n",
       "</div>"
      ],
      "text/plain": [
       "      energy    tempo  danceability playlist_genre  loudness  liveness  \\\n",
       "0      0.592  157.969         0.521            pop    -7.777    0.1220   \n",
       "1      0.507  104.978         0.747            pop   -10.171    0.1170   \n",
       "2      0.808  108.548         0.554            pop    -4.169    0.1590   \n",
       "3      0.910  112.966         0.670            pop    -4.070    0.3040   \n",
       "4      0.783  149.027         0.777            pop    -4.477    0.3550   \n",
       "...      ...      ...           ...            ...       ...       ...   \n",
       "1681   0.422  124.357         0.573          latin    -7.621    0.1020   \n",
       "1682   0.725  105.016         0.711          latin    -8.315    0.1100   \n",
       "1683   0.809   99.005         0.724          latin    -5.022    0.0765   \n",
       "1684   0.642   83.389         0.463          latin    -4.474    0.0686   \n",
       "1685   0.890  126.881         0.645            pop    -4.985    0.3760   \n",
       "\n",
       "      valence               track_artist  time_signature  speechiness  ...  \\\n",
       "0       0.535      Lady Gaga, Bruno Mars               3       0.0304  ...   \n",
       "1       0.438              Billie Eilish               4       0.0358  ...   \n",
       "2       0.372              Gracie Abrams               4       0.0368  ...   \n",
       "3       0.786          Sabrina Carpenter               4       0.0634  ...   \n",
       "4       0.939           ROSÉ, Bruno Mars               4       0.2600  ...   \n",
       "...       ...                        ...             ...          ...  ...   \n",
       "1681    0.693                   Libianca               5       0.0678  ...   \n",
       "1682    0.530                   Omah Lay               4       0.0941  ...   \n",
       "1683    0.606               Davido, FAVE               4       0.0929  ...   \n",
       "1684    0.339        Future, Drake, Tems               4       0.3400  ...   \n",
       "1685    0.421  Alan Walker, Ina Wroldsen               4       0.1280  ...   \n",
       "\n",
       "      instrumentalness          track_album_id mode key duration_ms  \\\n",
       "0             0.000000  10FLjwfpbxLmW8c25Xyc2N    0   6      251668   \n",
       "1             0.060800  7aJuG4TFXa2hmE4z1yxc3n    1   2      210373   \n",
       "2             0.000000  0hBRqPYPXhr1RkTDG3n4Mk    1   1      166300   \n",
       "3             0.000000  4B4Elma4nNDUyl6D5PvQkj    0   0      157280   \n",
       "4             0.000000  2IYQwwgxgOIn7t3iF6ufFD    0   0      169917   \n",
       "...                ...                     ...  ...  ..         ...   \n",
       "1681          0.000013  5Hmh6N8oisrcuZKa8EY5dn    0  10      184791   \n",
       "1682          0.129000  5NLjxx8nRy9ooUmgpOvfem    0   3      183057   \n",
       "1683          0.000000  6lI21W76LD0S3vC55GrfSS    0   6      194040   \n",
       "1684          0.000000  6tE9Dnp2zInFij4jKssysL    1   1      189893   \n",
       "1685          0.000009  34yBJhr8zlBAHMEMSwrISN    1   6      205087   \n",
       "\n",
       "     acousticness                      id playlist_subgenre            type  \\\n",
       "0          0.3080  2plbrEY59IikOBgBGLjaoe        mainstream  audio_features   \n",
       "1          0.2000  6dOtVTDdiauQNBQEDOtlAB        mainstream  audio_features   \n",
       "2          0.2140  7ne4VBA60CxGM75vw0EYad        mainstream  audio_features   \n",
       "3          0.0939  1d7Ptw3qYcfpdLNL5REhtJ        mainstream  audio_features   \n",
       "4          0.0283  5vNRhkKd0yEAg8suGBpjeY        mainstream  audio_features   \n",
       "...           ...                     ...               ...             ...   \n",
       "1681       0.5510  26b3oVLrRUaaybJulow9kz        afro-latin  audio_features   \n",
       "1682       0.4240  1wADwLSkYhrSmy4vdy6BRn        afro-latin  audio_features   \n",
       "1683       0.1820  7vKXc90NT5WBm3UTT4iTVG        afro-latin  audio_features   \n",
       "1684       0.3140  59nOXPmaKlBfGMDeOVGrIK        afro-latin  audio_features   \n",
       "1685       0.2590  2GE3k8I0Sbh0puCjI15KGy            scandi  audio_features   \n",
       "\n",
       "                 playlist_id  \n",
       "0     37i9dQZF1DXcBWIGoYBM5M  \n",
       "1     37i9dQZF1DXcBWIGoYBM5M  \n",
       "2     37i9dQZF1DXcBWIGoYBM5M  \n",
       "3     37i9dQZF1DXcBWIGoYBM5M  \n",
       "4     37i9dQZF1DXcBWIGoYBM5M  \n",
       "...                      ...  \n",
       "1681  0oU30cCr8klmMsuOKHDLkh  \n",
       "1682  0oU30cCr8klmMsuOKHDLkh  \n",
       "1683  0oU30cCr8klmMsuOKHDLkh  \n",
       "1684  0oU30cCr8klmMsuOKHDLkh  \n",
       "1685  59z06GgF6TTDbm5cr1RZUC  \n",
       "\n",
       "[1686 rows x 29 columns]"
      ]
     },
     "execution_count": 5,
     "metadata": {},
     "output_type": "execute_result"
    }
   ],
   "source": [
    "high"
   ]
  },
  {
   "cell_type": "code",
   "execution_count": 6,
   "metadata": {},
   "outputs": [
    {
     "data": {
      "text/html": [
       "<div>\n",
       "<style scoped>\n",
       "    .dataframe tbody tr th:only-of-type {\n",
       "        vertical-align: middle;\n",
       "    }\n",
       "\n",
       "    .dataframe tbody tr th {\n",
       "        vertical-align: top;\n",
       "    }\n",
       "\n",
       "    .dataframe thead th {\n",
       "        text-align: right;\n",
       "    }\n",
       "</style>\n",
       "<table border=\"1\" class=\"dataframe\">\n",
       "  <thead>\n",
       "    <tr style=\"text-align: right;\">\n",
       "      <th></th>\n",
       "      <th>time_signature</th>\n",
       "      <th>track_popularity</th>\n",
       "      <th>speechiness</th>\n",
       "      <th>danceability</th>\n",
       "      <th>playlist_name</th>\n",
       "      <th>track_artist</th>\n",
       "      <th>duration_ms</th>\n",
       "      <th>energy</th>\n",
       "      <th>playlist_genre</th>\n",
       "      <th>playlist_subgenre</th>\n",
       "      <th>...</th>\n",
       "      <th>track_album_id</th>\n",
       "      <th>playlist_id</th>\n",
       "      <th>track_id</th>\n",
       "      <th>valence</th>\n",
       "      <th>key</th>\n",
       "      <th>tempo</th>\n",
       "      <th>loudness</th>\n",
       "      <th>acousticness</th>\n",
       "      <th>liveness</th>\n",
       "      <th>track_album_name</th>\n",
       "    </tr>\n",
       "  </thead>\n",
       "  <tbody>\n",
       "    <tr>\n",
       "      <th>0</th>\n",
       "      <td>4.0</td>\n",
       "      <td>23</td>\n",
       "      <td>0.0393</td>\n",
       "      <td>0.636</td>\n",
       "      <td>Rock Classics</td>\n",
       "      <td>Creedence Clearwater Revival</td>\n",
       "      <td>138053.0</td>\n",
       "      <td>0.746</td>\n",
       "      <td>rock</td>\n",
       "      <td>classic</td>\n",
       "      <td>...</td>\n",
       "      <td>4A8gFwqd9jTtnsNwUu3OQx</td>\n",
       "      <td>37i9dQZF1DWXRqgorJj26U</td>\n",
       "      <td>5e6x5YRnMJIKvYpZxLqdpH</td>\n",
       "      <td>0.432</td>\n",
       "      <td>0.0</td>\n",
       "      <td>132.310</td>\n",
       "      <td>-3.785</td>\n",
       "      <td>0.0648</td>\n",
       "      <td>0.1730</td>\n",
       "      <td>The Long Road Home - The Ultimate John Fogerty...</td>\n",
       "    </tr>\n",
       "    <tr>\n",
       "      <th>1</th>\n",
       "      <td>4.0</td>\n",
       "      <td>53</td>\n",
       "      <td>0.0317</td>\n",
       "      <td>0.572</td>\n",
       "      <td>Rock Classics</td>\n",
       "      <td>Van Halen</td>\n",
       "      <td>241600.0</td>\n",
       "      <td>0.835</td>\n",
       "      <td>rock</td>\n",
       "      <td>classic</td>\n",
       "      <td>...</td>\n",
       "      <td>2c965LEDRNrXXCeBOAAwns</td>\n",
       "      <td>37i9dQZF1DWXRqgorJj26U</td>\n",
       "      <td>5FqYA8KfiwsQvyBI4IamnY</td>\n",
       "      <td>0.795</td>\n",
       "      <td>0.0</td>\n",
       "      <td>129.981</td>\n",
       "      <td>-6.219</td>\n",
       "      <td>0.1710</td>\n",
       "      <td>0.0702</td>\n",
       "      <td>The Collection</td>\n",
       "    </tr>\n",
       "    <tr>\n",
       "      <th>2</th>\n",
       "      <td>4.0</td>\n",
       "      <td>55</td>\n",
       "      <td>0.0454</td>\n",
       "      <td>0.591</td>\n",
       "      <td>Rock Classics</td>\n",
       "      <td>Stevie Nicks</td>\n",
       "      <td>329413.0</td>\n",
       "      <td>0.804</td>\n",
       "      <td>rock</td>\n",
       "      <td>classic</td>\n",
       "      <td>...</td>\n",
       "      <td>3S404OgKoVQSJ3xXrDVlp8</td>\n",
       "      <td>37i9dQZF1DWXRqgorJj26U</td>\n",
       "      <td>5LNiqEqpDc8TuqPy79kDBu</td>\n",
       "      <td>0.658</td>\n",
       "      <td>0.0</td>\n",
       "      <td>111.457</td>\n",
       "      <td>-7.299</td>\n",
       "      <td>0.3270</td>\n",
       "      <td>0.0818</td>\n",
       "      <td>Bella Donna (Deluxe Edition)</td>\n",
       "    </tr>\n",
       "    <tr>\n",
       "      <th>3</th>\n",
       "      <td>4.0</td>\n",
       "      <td>64</td>\n",
       "      <td>0.1010</td>\n",
       "      <td>0.443</td>\n",
       "      <td>Jazz Classics</td>\n",
       "      <td>Ella Fitzgerald, Louis Armstrong</td>\n",
       "      <td>185160.0</td>\n",
       "      <td>0.104</td>\n",
       "      <td>jazz</td>\n",
       "      <td>classic</td>\n",
       "      <td>...</td>\n",
       "      <td>1y5KGkUKO0NG32MhIIagCA</td>\n",
       "      <td>37i9dQZF1DXbITWG1ZJKYt</td>\n",
       "      <td>78MI7mu1LV1k4IA2HzKmHe</td>\n",
       "      <td>0.394</td>\n",
       "      <td>0.0</td>\n",
       "      <td>76.474</td>\n",
       "      <td>-17.042</td>\n",
       "      <td>0.9130</td>\n",
       "      <td>0.1910</td>\n",
       "      <td>Love, Ella</td>\n",
       "    </tr>\n",
       "    <tr>\n",
       "      <th>4</th>\n",
       "      <td>4.0</td>\n",
       "      <td>62</td>\n",
       "      <td>0.0298</td>\n",
       "      <td>0.685</td>\n",
       "      <td>Jazz Classics</td>\n",
       "      <td>Galt MacDermot</td>\n",
       "      <td>205720.0</td>\n",
       "      <td>0.472</td>\n",
       "      <td>jazz</td>\n",
       "      <td>classic</td>\n",
       "      <td>...</td>\n",
       "      <td>6f4b9wVTkKAf096k4XG6x5</td>\n",
       "      <td>37i9dQZF1DXbITWG1ZJKYt</td>\n",
       "      <td>6MN6yRVriszuyAVlyF8ndB</td>\n",
       "      <td>0.475</td>\n",
       "      <td>9.0</td>\n",
       "      <td>80.487</td>\n",
       "      <td>-9.691</td>\n",
       "      <td>0.7850</td>\n",
       "      <td>0.2240</td>\n",
       "      <td>Shapes of Rhythm/Woman Is Sweeter</td>\n",
       "    </tr>\n",
       "    <tr>\n",
       "      <th>...</th>\n",
       "      <td>...</td>\n",
       "      <td>...</td>\n",
       "      <td>...</td>\n",
       "      <td>...</td>\n",
       "      <td>...</td>\n",
       "      <td>...</td>\n",
       "      <td>...</td>\n",
       "      <td>...</td>\n",
       "      <td>...</td>\n",
       "      <td>...</td>\n",
       "      <td>...</td>\n",
       "      <td>...</td>\n",
       "      <td>...</td>\n",
       "      <td>...</td>\n",
       "      <td>...</td>\n",
       "      <td>...</td>\n",
       "      <td>...</td>\n",
       "      <td>...</td>\n",
       "      <td>...</td>\n",
       "      <td>...</td>\n",
       "      <td>...</td>\n",
       "    </tr>\n",
       "    <tr>\n",
       "      <th>3140</th>\n",
       "      <td>1.0</td>\n",
       "      <td>33</td>\n",
       "      <td>0.0634</td>\n",
       "      <td>0.352</td>\n",
       "      <td>Carnatic Classics</td>\n",
       "      <td>M. S. Subbulakshmi</td>\n",
       "      <td>661293.0</td>\n",
       "      <td>0.424</td>\n",
       "      <td>indian</td>\n",
       "      <td>classical</td>\n",
       "      <td>...</td>\n",
       "      <td>5utDQUWCZCEXWHMmna8C63</td>\n",
       "      <td>3sIB6VOssssCO17VUPu80m</td>\n",
       "      <td>1IkR0OgVI1gydC4S6jnG2B</td>\n",
       "      <td>0.605</td>\n",
       "      <td>10.0</td>\n",
       "      <td>75.466</td>\n",
       "      <td>-8.009</td>\n",
       "      <td>0.9650</td>\n",
       "      <td>0.2420</td>\n",
       "      <td>Bhaja Govindam - Vishnu Sahasranamam</td>\n",
       "    </tr>\n",
       "    <tr>\n",
       "      <th>3141</th>\n",
       "      <td>4.0</td>\n",
       "      <td>22</td>\n",
       "      <td>0.0656</td>\n",
       "      <td>0.471</td>\n",
       "      <td>Carnatic Classics</td>\n",
       "      <td>Jayanthi Kumaresh</td>\n",
       "      <td>394400.0</td>\n",
       "      <td>0.349</td>\n",
       "      <td>indian</td>\n",
       "      <td>classical</td>\n",
       "      <td>...</td>\n",
       "      <td>4kUGwkHXKBbaLwnqTIrg0J</td>\n",
       "      <td>3sIB6VOssssCO17VUPu80m</td>\n",
       "      <td>4ZFM5yFsjEzvZ1XmP27L5r</td>\n",
       "      <td>0.358</td>\n",
       "      <td>8.0</td>\n",
       "      <td>147.193</td>\n",
       "      <td>-16.633</td>\n",
       "      <td>0.9750</td>\n",
       "      <td>0.2860</td>\n",
       "      <td>Veenai Jayanthi Kumaresh</td>\n",
       "    </tr>\n",
       "    <tr>\n",
       "      <th>3142</th>\n",
       "      <td>4.0</td>\n",
       "      <td>18</td>\n",
       "      <td>0.0671</td>\n",
       "      <td>0.436</td>\n",
       "      <td>Carnatic Classics</td>\n",
       "      <td>Nirmala Rajasekar, Raghavendra Rao, Tanjore K....</td>\n",
       "      <td>473440.0</td>\n",
       "      <td>0.595</td>\n",
       "      <td>indian</td>\n",
       "      <td>classical</td>\n",
       "      <td>...</td>\n",
       "      <td>6FMROVG9PB4nJYmvNLTdge</td>\n",
       "      <td>3sIB6VOssssCO17VUPu80m</td>\n",
       "      <td>5wZQXUcphAyBZfVdWmAiYX</td>\n",
       "      <td>0.870</td>\n",
       "      <td>3.0</td>\n",
       "      <td>174.308</td>\n",
       "      <td>-11.494</td>\n",
       "      <td>0.8160</td>\n",
       "      <td>0.0939</td>\n",
       "      <td>Into the Raga</td>\n",
       "    </tr>\n",
       "    <tr>\n",
       "      <th>3143</th>\n",
       "      <td>1.0</td>\n",
       "      <td>23</td>\n",
       "      <td>0.0813</td>\n",
       "      <td>0.489</td>\n",
       "      <td>Carnatic Classics</td>\n",
       "      <td>Ganesh &amp; Kumaresh</td>\n",
       "      <td>298987.0</td>\n",
       "      <td>0.591</td>\n",
       "      <td>indian</td>\n",
       "      <td>classical</td>\n",
       "      <td>...</td>\n",
       "      <td>3si4Lr5oBcahJ3D7IPbO4N</td>\n",
       "      <td>3sIB6VOssssCO17VUPu80m</td>\n",
       "      <td>5Ca5l5vDzIOZdVwwWCxAds</td>\n",
       "      <td>0.689</td>\n",
       "      <td>8.0</td>\n",
       "      <td>174.760</td>\n",
       "      <td>-10.843</td>\n",
       "      <td>0.9480</td>\n",
       "      <td>0.0770</td>\n",
       "      <td>Thillanas: A Confluence Of Rhythm &amp; Melody</td>\n",
       "    </tr>\n",
       "    <tr>\n",
       "      <th>3144</th>\n",
       "      <td>4.0</td>\n",
       "      <td>14</td>\n",
       "      <td>0.0598</td>\n",
       "      <td>0.270</td>\n",
       "      <td>Carnatic Classics</td>\n",
       "      <td>Sudha Ragunathan</td>\n",
       "      <td>645701.0</td>\n",
       "      <td>0.816</td>\n",
       "      <td>indian</td>\n",
       "      <td>classical</td>\n",
       "      <td>...</td>\n",
       "      <td>2tezom8oCCpSeiriOFeZNi</td>\n",
       "      <td>3sIB6VOssssCO17VUPu80m</td>\n",
       "      <td>0HmenrANrrNVi8244GsYB5</td>\n",
       "      <td>0.591</td>\n",
       "      <td>8.0</td>\n",
       "      <td>170.938</td>\n",
       "      <td>-3.815</td>\n",
       "      <td>0.8530</td>\n",
       "      <td>0.3170</td>\n",
       "      <td>Gems of Carnatic Music: Sudha Raghunathan (Liv...</td>\n",
       "    </tr>\n",
       "  </tbody>\n",
       "</table>\n",
       "<p>3145 rows × 29 columns</p>\n",
       "</div>"
      ],
      "text/plain": [
       "      time_signature  track_popularity  speechiness  danceability  \\\n",
       "0                4.0                23       0.0393         0.636   \n",
       "1                4.0                53       0.0317         0.572   \n",
       "2                4.0                55       0.0454         0.591   \n",
       "3                4.0                64       0.1010         0.443   \n",
       "4                4.0                62       0.0298         0.685   \n",
       "...              ...               ...          ...           ...   \n",
       "3140             1.0                33       0.0634         0.352   \n",
       "3141             4.0                22       0.0656         0.471   \n",
       "3142             4.0                18       0.0671         0.436   \n",
       "3143             1.0                23       0.0813         0.489   \n",
       "3144             4.0                14       0.0598         0.270   \n",
       "\n",
       "          playlist_name                                       track_artist  \\\n",
       "0         Rock Classics                       Creedence Clearwater Revival   \n",
       "1         Rock Classics                                          Van Halen   \n",
       "2         Rock Classics                                       Stevie Nicks   \n",
       "3         Jazz Classics                   Ella Fitzgerald, Louis Armstrong   \n",
       "4         Jazz Classics                                     Galt MacDermot   \n",
       "...                 ...                                                ...   \n",
       "3140  Carnatic Classics                                 M. S. Subbulakshmi   \n",
       "3141  Carnatic Classics                                  Jayanthi Kumaresh   \n",
       "3142  Carnatic Classics  Nirmala Rajasekar, Raghavendra Rao, Tanjore K....   \n",
       "3143  Carnatic Classics                                  Ganesh & Kumaresh   \n",
       "3144  Carnatic Classics                                   Sudha Ragunathan   \n",
       "\n",
       "      duration_ms  energy playlist_genre playlist_subgenre  ...  \\\n",
       "0        138053.0   0.746           rock           classic  ...   \n",
       "1        241600.0   0.835           rock           classic  ...   \n",
       "2        329413.0   0.804           rock           classic  ...   \n",
       "3        185160.0   0.104           jazz           classic  ...   \n",
       "4        205720.0   0.472           jazz           classic  ...   \n",
       "...           ...     ...            ...               ...  ...   \n",
       "3140     661293.0   0.424         indian         classical  ...   \n",
       "3141     394400.0   0.349         indian         classical  ...   \n",
       "3142     473440.0   0.595         indian         classical  ...   \n",
       "3143     298987.0   0.591         indian         classical  ...   \n",
       "3144     645701.0   0.816         indian         classical  ...   \n",
       "\n",
       "              track_album_id             playlist_id                track_id  \\\n",
       "0     4A8gFwqd9jTtnsNwUu3OQx  37i9dQZF1DWXRqgorJj26U  5e6x5YRnMJIKvYpZxLqdpH   \n",
       "1     2c965LEDRNrXXCeBOAAwns  37i9dQZF1DWXRqgorJj26U  5FqYA8KfiwsQvyBI4IamnY   \n",
       "2     3S404OgKoVQSJ3xXrDVlp8  37i9dQZF1DWXRqgorJj26U  5LNiqEqpDc8TuqPy79kDBu   \n",
       "3     1y5KGkUKO0NG32MhIIagCA  37i9dQZF1DXbITWG1ZJKYt  78MI7mu1LV1k4IA2HzKmHe   \n",
       "4     6f4b9wVTkKAf096k4XG6x5  37i9dQZF1DXbITWG1ZJKYt  6MN6yRVriszuyAVlyF8ndB   \n",
       "...                      ...                     ...                     ...   \n",
       "3140  5utDQUWCZCEXWHMmna8C63  3sIB6VOssssCO17VUPu80m  1IkR0OgVI1gydC4S6jnG2B   \n",
       "3141  4kUGwkHXKBbaLwnqTIrg0J  3sIB6VOssssCO17VUPu80m  4ZFM5yFsjEzvZ1XmP27L5r   \n",
       "3142  6FMROVG9PB4nJYmvNLTdge  3sIB6VOssssCO17VUPu80m  5wZQXUcphAyBZfVdWmAiYX   \n",
       "3143  3si4Lr5oBcahJ3D7IPbO4N  3sIB6VOssssCO17VUPu80m  5Ca5l5vDzIOZdVwwWCxAds   \n",
       "3144  2tezom8oCCpSeiriOFeZNi  3sIB6VOssssCO17VUPu80m  0HmenrANrrNVi8244GsYB5   \n",
       "\n",
       "     valence   key    tempo loudness acousticness  liveness  \\\n",
       "0      0.432   0.0  132.310   -3.785       0.0648    0.1730   \n",
       "1      0.795   0.0  129.981   -6.219       0.1710    0.0702   \n",
       "2      0.658   0.0  111.457   -7.299       0.3270    0.0818   \n",
       "3      0.394   0.0   76.474  -17.042       0.9130    0.1910   \n",
       "4      0.475   9.0   80.487   -9.691       0.7850    0.2240   \n",
       "...      ...   ...      ...      ...          ...       ...   \n",
       "3140   0.605  10.0   75.466   -8.009       0.9650    0.2420   \n",
       "3141   0.358   8.0  147.193  -16.633       0.9750    0.2860   \n",
       "3142   0.870   3.0  174.308  -11.494       0.8160    0.0939   \n",
       "3143   0.689   8.0  174.760  -10.843       0.9480    0.0770   \n",
       "3144   0.591   8.0  170.938   -3.815       0.8530    0.3170   \n",
       "\n",
       "                                       track_album_name  \n",
       "0     The Long Road Home - The Ultimate John Fogerty...  \n",
       "1                                        The Collection  \n",
       "2                          Bella Donna (Deluxe Edition)  \n",
       "3                                            Love, Ella  \n",
       "4                     Shapes of Rhythm/Woman Is Sweeter  \n",
       "...                                                 ...  \n",
       "3140               Bhaja Govindam - Vishnu Sahasranamam  \n",
       "3141                           Veenai Jayanthi Kumaresh  \n",
       "3142                                      Into the Raga  \n",
       "3143         Thillanas: A Confluence Of Rhythm & Melody  \n",
       "3144  Gems of Carnatic Music: Sudha Raghunathan (Liv...  \n",
       "\n",
       "[3145 rows x 29 columns]"
      ]
     },
     "execution_count": 6,
     "metadata": {},
     "output_type": "execute_result"
    }
   ],
   "source": [
    "low"
   ]
  },
  {
   "cell_type": "code",
   "execution_count": 7,
   "metadata": {},
   "outputs": [
    {
     "data": {
      "text/plain": [
       "energy                      0\n",
       "tempo                       0\n",
       "danceability                0\n",
       "playlist_genre              0\n",
       "loudness                    0\n",
       "liveness                    0\n",
       "valence                     0\n",
       "track_artist                0\n",
       "time_signature              0\n",
       "speechiness                 0\n",
       "track_popularity            0\n",
       "track_href                  0\n",
       "uri                         0\n",
       "track_album_name            1\n",
       "playlist_name               0\n",
       "analysis_url                0\n",
       "track_id                    0\n",
       "track_name                  0\n",
       "track_album_release_date    0\n",
       "instrumentalness            0\n",
       "track_album_id              0\n",
       "mode                        0\n",
       "key                         0\n",
       "duration_ms                 0\n",
       "acousticness                0\n",
       "id                          0\n",
       "playlist_subgenre           0\n",
       "type                        0\n",
       "playlist_id                 0\n",
       "dtype: int64"
      ]
     },
     "execution_count": 7,
     "metadata": {},
     "output_type": "execute_result"
    }
   ],
   "source": [
    "high.isna().sum()"
   ]
  },
  {
   "cell_type": "code",
   "execution_count": 8,
   "metadata": {},
   "outputs": [
    {
     "data": {
      "text/html": [
       "<div>\n",
       "<style scoped>\n",
       "    .dataframe tbody tr th:only-of-type {\n",
       "        vertical-align: middle;\n",
       "    }\n",
       "\n",
       "    .dataframe tbody tr th {\n",
       "        vertical-align: top;\n",
       "    }\n",
       "\n",
       "    .dataframe thead th {\n",
       "        text-align: right;\n",
       "    }\n",
       "</style>\n",
       "<table border=\"1\" class=\"dataframe\">\n",
       "  <thead>\n",
       "    <tr style=\"text-align: right;\">\n",
       "      <th></th>\n",
       "      <th>energy</th>\n",
       "      <th>tempo</th>\n",
       "      <th>danceability</th>\n",
       "      <th>playlist_genre</th>\n",
       "      <th>loudness</th>\n",
       "      <th>liveness</th>\n",
       "      <th>valence</th>\n",
       "      <th>track_artist</th>\n",
       "      <th>time_signature</th>\n",
       "      <th>speechiness</th>\n",
       "      <th>...</th>\n",
       "      <th>instrumentalness</th>\n",
       "      <th>track_album_id</th>\n",
       "      <th>mode</th>\n",
       "      <th>key</th>\n",
       "      <th>duration_ms</th>\n",
       "      <th>acousticness</th>\n",
       "      <th>id</th>\n",
       "      <th>playlist_subgenre</th>\n",
       "      <th>type</th>\n",
       "      <th>playlist_id</th>\n",
       "    </tr>\n",
       "  </thead>\n",
       "  <tbody>\n",
       "    <tr>\n",
       "      <th>665</th>\n",
       "      <td>0.926</td>\n",
       "      <td>105.969</td>\n",
       "      <td>0.682</td>\n",
       "      <td>k-pop</td>\n",
       "      <td>-2.515</td>\n",
       "      <td>0.19</td>\n",
       "      <td>0.86</td>\n",
       "      <td>NAYEON</td>\n",
       "      <td>4</td>\n",
       "      <td>0.0607</td>\n",
       "      <td>...</td>\n",
       "      <td>0.0</td>\n",
       "      <td>5zQI9dFbS9TrhvC9clgjz7</td>\n",
       "      <td>0</td>\n",
       "      <td>3</td>\n",
       "      <td>162840</td>\n",
       "      <td>0.0404</td>\n",
       "      <td>0V2passWyAXnON67kfAj7y</td>\n",
       "      <td>modern</td>\n",
       "      <td>audio_features</td>\n",
       "      <td>1bNuDsel3P60p11Z7vfHMR</td>\n",
       "    </tr>\n",
       "  </tbody>\n",
       "</table>\n",
       "<p>1 rows × 29 columns</p>\n",
       "</div>"
      ],
      "text/plain": [
       "     energy    tempo  danceability playlist_genre  loudness  liveness  \\\n",
       "665   0.926  105.969         0.682          k-pop    -2.515      0.19   \n",
       "\n",
       "     valence track_artist  time_signature  speechiness  ...  instrumentalness  \\\n",
       "665     0.86       NAYEON               4       0.0607  ...               0.0   \n",
       "\n",
       "             track_album_id mode key duration_ms acousticness  \\\n",
       "665  5zQI9dFbS9TrhvC9clgjz7    0   3      162840       0.0404   \n",
       "\n",
       "                         id playlist_subgenre            type  \\\n",
       "665  0V2passWyAXnON67kfAj7y            modern  audio_features   \n",
       "\n",
       "                playlist_id  \n",
       "665  1bNuDsel3P60p11Z7vfHMR  \n",
       "\n",
       "[1 rows x 29 columns]"
      ]
     },
     "execution_count": 8,
     "metadata": {},
     "output_type": "execute_result"
    }
   ],
   "source": [
    "high[high.isna().any(axis=1)]"
   ]
  },
  {
   "cell_type": "code",
   "execution_count": 9,
   "metadata": {},
   "outputs": [
    {
     "data": {
      "text/html": [
       "<div>\n",
       "<style scoped>\n",
       "    .dataframe tbody tr th:only-of-type {\n",
       "        vertical-align: middle;\n",
       "    }\n",
       "\n",
       "    .dataframe tbody tr th {\n",
       "        vertical-align: top;\n",
       "    }\n",
       "\n",
       "    .dataframe thead th {\n",
       "        text-align: right;\n",
       "    }\n",
       "</style>\n",
       "<table border=\"1\" class=\"dataframe\">\n",
       "  <thead>\n",
       "    <tr style=\"text-align: right;\">\n",
       "      <th></th>\n",
       "      <th>time_signature</th>\n",
       "      <th>track_popularity</th>\n",
       "      <th>speechiness</th>\n",
       "      <th>danceability</th>\n",
       "      <th>playlist_name</th>\n",
       "      <th>track_artist</th>\n",
       "      <th>duration_ms</th>\n",
       "      <th>energy</th>\n",
       "      <th>playlist_genre</th>\n",
       "      <th>playlist_subgenre</th>\n",
       "      <th>...</th>\n",
       "      <th>track_album_id</th>\n",
       "      <th>playlist_id</th>\n",
       "      <th>track_id</th>\n",
       "      <th>valence</th>\n",
       "      <th>key</th>\n",
       "      <th>tempo</th>\n",
       "      <th>loudness</th>\n",
       "      <th>acousticness</th>\n",
       "      <th>liveness</th>\n",
       "      <th>track_album_name</th>\n",
       "    </tr>\n",
       "  </thead>\n",
       "  <tbody>\n",
       "    <tr>\n",
       "      <th>263</th>\n",
       "      <td>NaN</td>\n",
       "      <td>50</td>\n",
       "      <td>NaN</td>\n",
       "      <td>NaN</td>\n",
       "      <td>Chill Lofi Study Beats</td>\n",
       "      <td>Berhanio</td>\n",
       "      <td>NaN</td>\n",
       "      <td>NaN</td>\n",
       "      <td>lofi</td>\n",
       "      <td>chill</td>\n",
       "      <td>...</td>\n",
       "      <td>4X9vWjNWlZ3qAtyDZ2ZhDj</td>\n",
       "      <td>37i9dQZF1DX8Uebhn9wzrS</td>\n",
       "      <td>2teI76KKFE6qkpLZJs7tZ7</td>\n",
       "      <td>NaN</td>\n",
       "      <td>NaN</td>\n",
       "      <td>NaN</td>\n",
       "      <td>NaN</td>\n",
       "      <td>NaN</td>\n",
       "      <td>NaN</td>\n",
       "      <td>Make It</td>\n",
       "    </tr>\n",
       "  </tbody>\n",
       "</table>\n",
       "<p>1 rows × 29 columns</p>\n",
       "</div>"
      ],
      "text/plain": [
       "     time_signature  track_popularity  speechiness  danceability  \\\n",
       "263             NaN                50          NaN           NaN   \n",
       "\n",
       "              playlist_name track_artist  duration_ms  energy playlist_genre  \\\n",
       "263  Chill Lofi Study Beats     Berhanio          NaN     NaN           lofi   \n",
       "\n",
       "    playlist_subgenre  ...          track_album_id             playlist_id  \\\n",
       "263             chill  ...  4X9vWjNWlZ3qAtyDZ2ZhDj  37i9dQZF1DX8Uebhn9wzrS   \n",
       "\n",
       "                   track_id valence key tempo loudness acousticness  liveness  \\\n",
       "263  2teI76KKFE6qkpLZJs7tZ7     NaN NaN   NaN      NaN          NaN       NaN   \n",
       "\n",
       "    track_album_name  \n",
       "263          Make It  \n",
       "\n",
       "[1 rows x 29 columns]"
      ]
     },
     "execution_count": 9,
     "metadata": {},
     "output_type": "execute_result"
    }
   ],
   "source": [
    "low[low.isna().any(axis = 1)]"
   ]
  },
  {
   "cell_type": "code",
   "execution_count": 10,
   "metadata": {},
   "outputs": [
    {
     "data": {
      "text/html": [
       "<div>\n",
       "<style scoped>\n",
       "    .dataframe tbody tr th:only-of-type {\n",
       "        vertical-align: middle;\n",
       "    }\n",
       "\n",
       "    .dataframe tbody tr th {\n",
       "        vertical-align: top;\n",
       "    }\n",
       "\n",
       "    .dataframe thead th {\n",
       "        text-align: right;\n",
       "    }\n",
       "</style>\n",
       "<table border=\"1\" class=\"dataframe\">\n",
       "  <thead>\n",
       "    <tr style=\"text-align: right;\">\n",
       "      <th></th>\n",
       "      <th>time_signature</th>\n",
       "      <th>track_popularity</th>\n",
       "      <th>speechiness</th>\n",
       "      <th>danceability</th>\n",
       "      <th>playlist_name</th>\n",
       "      <th>track_artist</th>\n",
       "      <th>duration_ms</th>\n",
       "      <th>energy</th>\n",
       "      <th>playlist_genre</th>\n",
       "      <th>playlist_subgenre</th>\n",
       "      <th>...</th>\n",
       "      <th>track_album_id</th>\n",
       "      <th>playlist_id</th>\n",
       "      <th>track_id</th>\n",
       "      <th>valence</th>\n",
       "      <th>key</th>\n",
       "      <th>tempo</th>\n",
       "      <th>loudness</th>\n",
       "      <th>acousticness</th>\n",
       "      <th>liveness</th>\n",
       "      <th>track_album_name</th>\n",
       "    </tr>\n",
       "  </thead>\n",
       "  <tbody>\n",
       "    <tr>\n",
       "      <th>0</th>\n",
       "      <td>4.0</td>\n",
       "      <td>23</td>\n",
       "      <td>0.0393</td>\n",
       "      <td>0.636</td>\n",
       "      <td>Rock Classics</td>\n",
       "      <td>Creedence Clearwater Revival</td>\n",
       "      <td>138053.0</td>\n",
       "      <td>0.746</td>\n",
       "      <td>rock</td>\n",
       "      <td>classic</td>\n",
       "      <td>...</td>\n",
       "      <td>4A8gFwqd9jTtnsNwUu3OQx</td>\n",
       "      <td>37i9dQZF1DWXRqgorJj26U</td>\n",
       "      <td>5e6x5YRnMJIKvYpZxLqdpH</td>\n",
       "      <td>0.432</td>\n",
       "      <td>0.0</td>\n",
       "      <td>132.310</td>\n",
       "      <td>-3.785</td>\n",
       "      <td>0.0648</td>\n",
       "      <td>0.1730</td>\n",
       "      <td>The Long Road Home - The Ultimate John Fogerty...</td>\n",
       "    </tr>\n",
       "    <tr>\n",
       "      <th>1</th>\n",
       "      <td>4.0</td>\n",
       "      <td>53</td>\n",
       "      <td>0.0317</td>\n",
       "      <td>0.572</td>\n",
       "      <td>Rock Classics</td>\n",
       "      <td>Van Halen</td>\n",
       "      <td>241600.0</td>\n",
       "      <td>0.835</td>\n",
       "      <td>rock</td>\n",
       "      <td>classic</td>\n",
       "      <td>...</td>\n",
       "      <td>2c965LEDRNrXXCeBOAAwns</td>\n",
       "      <td>37i9dQZF1DWXRqgorJj26U</td>\n",
       "      <td>5FqYA8KfiwsQvyBI4IamnY</td>\n",
       "      <td>0.795</td>\n",
       "      <td>0.0</td>\n",
       "      <td>129.981</td>\n",
       "      <td>-6.219</td>\n",
       "      <td>0.1710</td>\n",
       "      <td>0.0702</td>\n",
       "      <td>The Collection</td>\n",
       "    </tr>\n",
       "    <tr>\n",
       "      <th>2</th>\n",
       "      <td>4.0</td>\n",
       "      <td>55</td>\n",
       "      <td>0.0454</td>\n",
       "      <td>0.591</td>\n",
       "      <td>Rock Classics</td>\n",
       "      <td>Stevie Nicks</td>\n",
       "      <td>329413.0</td>\n",
       "      <td>0.804</td>\n",
       "      <td>rock</td>\n",
       "      <td>classic</td>\n",
       "      <td>...</td>\n",
       "      <td>3S404OgKoVQSJ3xXrDVlp8</td>\n",
       "      <td>37i9dQZF1DWXRqgorJj26U</td>\n",
       "      <td>5LNiqEqpDc8TuqPy79kDBu</td>\n",
       "      <td>0.658</td>\n",
       "      <td>0.0</td>\n",
       "      <td>111.457</td>\n",
       "      <td>-7.299</td>\n",
       "      <td>0.3270</td>\n",
       "      <td>0.0818</td>\n",
       "      <td>Bella Donna (Deluxe Edition)</td>\n",
       "    </tr>\n",
       "    <tr>\n",
       "      <th>3</th>\n",
       "      <td>4.0</td>\n",
       "      <td>64</td>\n",
       "      <td>0.1010</td>\n",
       "      <td>0.443</td>\n",
       "      <td>Jazz Classics</td>\n",
       "      <td>Ella Fitzgerald, Louis Armstrong</td>\n",
       "      <td>185160.0</td>\n",
       "      <td>0.104</td>\n",
       "      <td>jazz</td>\n",
       "      <td>classic</td>\n",
       "      <td>...</td>\n",
       "      <td>1y5KGkUKO0NG32MhIIagCA</td>\n",
       "      <td>37i9dQZF1DXbITWG1ZJKYt</td>\n",
       "      <td>78MI7mu1LV1k4IA2HzKmHe</td>\n",
       "      <td>0.394</td>\n",
       "      <td>0.0</td>\n",
       "      <td>76.474</td>\n",
       "      <td>-17.042</td>\n",
       "      <td>0.9130</td>\n",
       "      <td>0.1910</td>\n",
       "      <td>Love, Ella</td>\n",
       "    </tr>\n",
       "    <tr>\n",
       "      <th>4</th>\n",
       "      <td>4.0</td>\n",
       "      <td>62</td>\n",
       "      <td>0.0298</td>\n",
       "      <td>0.685</td>\n",
       "      <td>Jazz Classics</td>\n",
       "      <td>Galt MacDermot</td>\n",
       "      <td>205720.0</td>\n",
       "      <td>0.472</td>\n",
       "      <td>jazz</td>\n",
       "      <td>classic</td>\n",
       "      <td>...</td>\n",
       "      <td>6f4b9wVTkKAf096k4XG6x5</td>\n",
       "      <td>37i9dQZF1DXbITWG1ZJKYt</td>\n",
       "      <td>6MN6yRVriszuyAVlyF8ndB</td>\n",
       "      <td>0.475</td>\n",
       "      <td>9.0</td>\n",
       "      <td>80.487</td>\n",
       "      <td>-9.691</td>\n",
       "      <td>0.7850</td>\n",
       "      <td>0.2240</td>\n",
       "      <td>Shapes of Rhythm/Woman Is Sweeter</td>\n",
       "    </tr>\n",
       "    <tr>\n",
       "      <th>...</th>\n",
       "      <td>...</td>\n",
       "      <td>...</td>\n",
       "      <td>...</td>\n",
       "      <td>...</td>\n",
       "      <td>...</td>\n",
       "      <td>...</td>\n",
       "      <td>...</td>\n",
       "      <td>...</td>\n",
       "      <td>...</td>\n",
       "      <td>...</td>\n",
       "      <td>...</td>\n",
       "      <td>...</td>\n",
       "      <td>...</td>\n",
       "      <td>...</td>\n",
       "      <td>...</td>\n",
       "      <td>...</td>\n",
       "      <td>...</td>\n",
       "      <td>...</td>\n",
       "      <td>...</td>\n",
       "      <td>...</td>\n",
       "      <td>...</td>\n",
       "    </tr>\n",
       "    <tr>\n",
       "      <th>1681</th>\n",
       "      <td>5.0</td>\n",
       "      <td>76</td>\n",
       "      <td>0.0678</td>\n",
       "      <td>0.573</td>\n",
       "      <td>Afro-Latin Party</td>\n",
       "      <td>Libianca</td>\n",
       "      <td>184791.0</td>\n",
       "      <td>0.422</td>\n",
       "      <td>latin</td>\n",
       "      <td>afro-latin</td>\n",
       "      <td>...</td>\n",
       "      <td>5Hmh6N8oisrcuZKa8EY5dn</td>\n",
       "      <td>0oU30cCr8klmMsuOKHDLkh</td>\n",
       "      <td>26b3oVLrRUaaybJulow9kz</td>\n",
       "      <td>0.693</td>\n",
       "      <td>10.0</td>\n",
       "      <td>124.357</td>\n",
       "      <td>-7.621</td>\n",
       "      <td>0.5510</td>\n",
       "      <td>0.1020</td>\n",
       "      <td>People</td>\n",
       "    </tr>\n",
       "    <tr>\n",
       "      <th>1682</th>\n",
       "      <td>4.0</td>\n",
       "      <td>74</td>\n",
       "      <td>0.0941</td>\n",
       "      <td>0.711</td>\n",
       "      <td>Afro-Latin Party</td>\n",
       "      <td>Omah Lay</td>\n",
       "      <td>183057.0</td>\n",
       "      <td>0.725</td>\n",
       "      <td>latin</td>\n",
       "      <td>afro-latin</td>\n",
       "      <td>...</td>\n",
       "      <td>5NLjxx8nRy9ooUmgpOvfem</td>\n",
       "      <td>0oU30cCr8klmMsuOKHDLkh</td>\n",
       "      <td>1wADwLSkYhrSmy4vdy6BRn</td>\n",
       "      <td>0.530</td>\n",
       "      <td>3.0</td>\n",
       "      <td>105.016</td>\n",
       "      <td>-8.315</td>\n",
       "      <td>0.4240</td>\n",
       "      <td>0.1100</td>\n",
       "      <td>Boy Alone</td>\n",
       "    </tr>\n",
       "    <tr>\n",
       "      <th>1683</th>\n",
       "      <td>4.0</td>\n",
       "      <td>69</td>\n",
       "      <td>0.0929</td>\n",
       "      <td>0.724</td>\n",
       "      <td>Afro-Latin Party</td>\n",
       "      <td>Davido, FAVE</td>\n",
       "      <td>194040.0</td>\n",
       "      <td>0.809</td>\n",
       "      <td>latin</td>\n",
       "      <td>afro-latin</td>\n",
       "      <td>...</td>\n",
       "      <td>6lI21W76LD0S3vC55GrfSS</td>\n",
       "      <td>0oU30cCr8klmMsuOKHDLkh</td>\n",
       "      <td>7vKXc90NT5WBm3UTT4iTVG</td>\n",
       "      <td>0.606</td>\n",
       "      <td>6.0</td>\n",
       "      <td>99.005</td>\n",
       "      <td>-5.022</td>\n",
       "      <td>0.1820</td>\n",
       "      <td>0.0765</td>\n",
       "      <td>Timeless</td>\n",
       "    </tr>\n",
       "    <tr>\n",
       "      <th>1684</th>\n",
       "      <td>4.0</td>\n",
       "      <td>82</td>\n",
       "      <td>0.3400</td>\n",
       "      <td>0.463</td>\n",
       "      <td>Afro-Latin Party</td>\n",
       "      <td>Future, Drake, Tems</td>\n",
       "      <td>189893.0</td>\n",
       "      <td>0.642</td>\n",
       "      <td>latin</td>\n",
       "      <td>afro-latin</td>\n",
       "      <td>...</td>\n",
       "      <td>6tE9Dnp2zInFij4jKssysL</td>\n",
       "      <td>0oU30cCr8klmMsuOKHDLkh</td>\n",
       "      <td>59nOXPmaKlBfGMDeOVGrIK</td>\n",
       "      <td>0.339</td>\n",
       "      <td>1.0</td>\n",
       "      <td>83.389</td>\n",
       "      <td>-4.474</td>\n",
       "      <td>0.3140</td>\n",
       "      <td>0.0686</td>\n",
       "      <td>I NEVER LIKED YOU</td>\n",
       "    </tr>\n",
       "    <tr>\n",
       "      <th>1685</th>\n",
       "      <td>4.0</td>\n",
       "      <td>69</td>\n",
       "      <td>0.1280</td>\n",
       "      <td>0.645</td>\n",
       "      <td>Scandi Pop</td>\n",
       "      <td>Alan Walker, Ina Wroldsen</td>\n",
       "      <td>205087.0</td>\n",
       "      <td>0.890</td>\n",
       "      <td>pop</td>\n",
       "      <td>scandi</td>\n",
       "      <td>...</td>\n",
       "      <td>34yBJhr8zlBAHMEMSwrISN</td>\n",
       "      <td>59z06GgF6TTDbm5cr1RZUC</td>\n",
       "      <td>2GE3k8I0Sbh0puCjI15KGy</td>\n",
       "      <td>0.421</td>\n",
       "      <td>6.0</td>\n",
       "      <td>126.881</td>\n",
       "      <td>-4.985</td>\n",
       "      <td>0.2590</td>\n",
       "      <td>0.3760</td>\n",
       "      <td>Barcelona</td>\n",
       "    </tr>\n",
       "  </tbody>\n",
       "</table>\n",
       "<p>4831 rows × 29 columns</p>\n",
       "</div>"
      ],
      "text/plain": [
       "      time_signature  track_popularity  speechiness  danceability  \\\n",
       "0                4.0                23       0.0393         0.636   \n",
       "1                4.0                53       0.0317         0.572   \n",
       "2                4.0                55       0.0454         0.591   \n",
       "3                4.0                64       0.1010         0.443   \n",
       "4                4.0                62       0.0298         0.685   \n",
       "...              ...               ...          ...           ...   \n",
       "1681             5.0                76       0.0678         0.573   \n",
       "1682             4.0                74       0.0941         0.711   \n",
       "1683             4.0                69       0.0929         0.724   \n",
       "1684             4.0                82       0.3400         0.463   \n",
       "1685             4.0                69       0.1280         0.645   \n",
       "\n",
       "         playlist_name                      track_artist  duration_ms  energy  \\\n",
       "0        Rock Classics      Creedence Clearwater Revival     138053.0   0.746   \n",
       "1        Rock Classics                         Van Halen     241600.0   0.835   \n",
       "2        Rock Classics                      Stevie Nicks     329413.0   0.804   \n",
       "3        Jazz Classics  Ella Fitzgerald, Louis Armstrong     185160.0   0.104   \n",
       "4        Jazz Classics                    Galt MacDermot     205720.0   0.472   \n",
       "...                ...                               ...          ...     ...   \n",
       "1681  Afro-Latin Party                          Libianca     184791.0   0.422   \n",
       "1682  Afro-Latin Party                          Omah Lay     183057.0   0.725   \n",
       "1683  Afro-Latin Party                      Davido, FAVE     194040.0   0.809   \n",
       "1684  Afro-Latin Party               Future, Drake, Tems     189893.0   0.642   \n",
       "1685        Scandi Pop         Alan Walker, Ina Wroldsen     205087.0   0.890   \n",
       "\n",
       "     playlist_genre playlist_subgenre  ...          track_album_id  \\\n",
       "0              rock           classic  ...  4A8gFwqd9jTtnsNwUu3OQx   \n",
       "1              rock           classic  ...  2c965LEDRNrXXCeBOAAwns   \n",
       "2              rock           classic  ...  3S404OgKoVQSJ3xXrDVlp8   \n",
       "3              jazz           classic  ...  1y5KGkUKO0NG32MhIIagCA   \n",
       "4              jazz           classic  ...  6f4b9wVTkKAf096k4XG6x5   \n",
       "...             ...               ...  ...                     ...   \n",
       "1681          latin        afro-latin  ...  5Hmh6N8oisrcuZKa8EY5dn   \n",
       "1682          latin        afro-latin  ...  5NLjxx8nRy9ooUmgpOvfem   \n",
       "1683          latin        afro-latin  ...  6lI21W76LD0S3vC55GrfSS   \n",
       "1684          latin        afro-latin  ...  6tE9Dnp2zInFij4jKssysL   \n",
       "1685            pop            scandi  ...  34yBJhr8zlBAHMEMSwrISN   \n",
       "\n",
       "                 playlist_id                track_id valence   key    tempo  \\\n",
       "0     37i9dQZF1DWXRqgorJj26U  5e6x5YRnMJIKvYpZxLqdpH   0.432   0.0  132.310   \n",
       "1     37i9dQZF1DWXRqgorJj26U  5FqYA8KfiwsQvyBI4IamnY   0.795   0.0  129.981   \n",
       "2     37i9dQZF1DWXRqgorJj26U  5LNiqEqpDc8TuqPy79kDBu   0.658   0.0  111.457   \n",
       "3     37i9dQZF1DXbITWG1ZJKYt  78MI7mu1LV1k4IA2HzKmHe   0.394   0.0   76.474   \n",
       "4     37i9dQZF1DXbITWG1ZJKYt  6MN6yRVriszuyAVlyF8ndB   0.475   9.0   80.487   \n",
       "...                      ...                     ...     ...   ...      ...   \n",
       "1681  0oU30cCr8klmMsuOKHDLkh  26b3oVLrRUaaybJulow9kz   0.693  10.0  124.357   \n",
       "1682  0oU30cCr8klmMsuOKHDLkh  1wADwLSkYhrSmy4vdy6BRn   0.530   3.0  105.016   \n",
       "1683  0oU30cCr8klmMsuOKHDLkh  7vKXc90NT5WBm3UTT4iTVG   0.606   6.0   99.005   \n",
       "1684  0oU30cCr8klmMsuOKHDLkh  59nOXPmaKlBfGMDeOVGrIK   0.339   1.0   83.389   \n",
       "1685  59z06GgF6TTDbm5cr1RZUC  2GE3k8I0Sbh0puCjI15KGy   0.421   6.0  126.881   \n",
       "\n",
       "     loudness acousticness  liveness  \\\n",
       "0      -3.785       0.0648    0.1730   \n",
       "1      -6.219       0.1710    0.0702   \n",
       "2      -7.299       0.3270    0.0818   \n",
       "3     -17.042       0.9130    0.1910   \n",
       "4      -9.691       0.7850    0.2240   \n",
       "...       ...          ...       ...   \n",
       "1681   -7.621       0.5510    0.1020   \n",
       "1682   -8.315       0.4240    0.1100   \n",
       "1683   -5.022       0.1820    0.0765   \n",
       "1684   -4.474       0.3140    0.0686   \n",
       "1685   -4.985       0.2590    0.3760   \n",
       "\n",
       "                                       track_album_name  \n",
       "0     The Long Road Home - The Ultimate John Fogerty...  \n",
       "1                                        The Collection  \n",
       "2                          Bella Donna (Deluxe Edition)  \n",
       "3                                            Love, Ella  \n",
       "4                     Shapes of Rhythm/Woman Is Sweeter  \n",
       "...                                                 ...  \n",
       "1681                                             People  \n",
       "1682                                          Boy Alone  \n",
       "1683                                           Timeless  \n",
       "1684                                  I NEVER LIKED YOU  \n",
       "1685                                          Barcelona  \n",
       "\n",
       "[4831 rows x 29 columns]"
      ]
     },
     "execution_count": 10,
     "metadata": {},
     "output_type": "execute_result"
    }
   ],
   "source": [
    "df_tot = pd.concat([low, high], axis = 0)\n",
    "df_tot"
   ]
  },
  {
   "cell_type": "code",
   "execution_count": 11,
   "metadata": {},
   "outputs": [
    {
     "data": {
      "text/plain": [
       "0       23\n",
       "1       53\n",
       "2       55\n",
       "3       64\n",
       "4       62\n",
       "        ..\n",
       "1681    76\n",
       "1682    74\n",
       "1683    69\n",
       "1684    82\n",
       "1685    69\n",
       "Name: track_popularity, Length: 4831, dtype: int64"
      ]
     },
     "execution_count": 11,
     "metadata": {},
     "output_type": "execute_result"
    }
   ],
   "source": [
    "\n",
    "df_tot.columns\n",
    "df_tot['track_popularity']"
   ]
  },
  {
   "cell_type": "code",
   "execution_count": 12,
   "metadata": {},
   "outputs": [
    {
     "name": "stderr",
     "output_type": "stream",
     "text": [
      "\n",
      "[notice] A new release of pip is available: 24.0 -> 25.0.1\n",
      "[notice] To update, run: C:\\Users\\vinut\\AppData\\Local\\Microsoft\\WindowsApps\\PythonSoftwareFoundation.Python.3.11_qbz5n2kfra8p0\\python.exe -m pip install --upgrade pip\n"
     ]
    },
    {
     "name": "stdout",
     "output_type": "stream",
     "text": [
      "Requirement already satisfied: nbformat in c:\\users\\vinut\\appdata\\local\\packages\\pythonsoftwarefoundation.python.3.11_qbz5n2kfra8p0\\localcache\\local-packages\\python311\\site-packages (5.10.4)\n",
      "Requirement already satisfied: fastjsonschema>=2.15 in c:\\users\\vinut\\appdata\\local\\packages\\pythonsoftwarefoundation.python.3.11_qbz5n2kfra8p0\\localcache\\local-packages\\python311\\site-packages (from nbformat) (2.21.1)\n",
      "Requirement already satisfied: jsonschema>=2.6 in c:\\users\\vinut\\appdata\\local\\packages\\pythonsoftwarefoundation.python.3.11_qbz5n2kfra8p0\\localcache\\local-packages\\python311\\site-packages (from nbformat) (4.23.0)\n",
      "Requirement already satisfied: jupyter-core!=5.0.*,>=4.12 in c:\\users\\vinut\\appdata\\local\\packages\\pythonsoftwarefoundation.python.3.11_qbz5n2kfra8p0\\localcache\\local-packages\\python311\\site-packages (from nbformat) (5.7.2)\n",
      "Requirement already satisfied: traitlets>=5.1 in c:\\users\\vinut\\appdata\\local\\packages\\pythonsoftwarefoundation.python.3.11_qbz5n2kfra8p0\\localcache\\local-packages\\python311\\site-packages (from nbformat) (5.14.2)\n",
      "Requirement already satisfied: attrs>=22.2.0 in c:\\users\\vinut\\appdata\\local\\packages\\pythonsoftwarefoundation.python.3.11_qbz5n2kfra8p0\\localcache\\local-packages\\python311\\site-packages (from jsonschema>=2.6->nbformat) (25.1.0)\n",
      "Requirement already satisfied: jsonschema-specifications>=2023.03.6 in c:\\users\\vinut\\appdata\\local\\packages\\pythonsoftwarefoundation.python.3.11_qbz5n2kfra8p0\\localcache\\local-packages\\python311\\site-packages (from jsonschema>=2.6->nbformat) (2024.10.1)\n",
      "Requirement already satisfied: referencing>=0.28.4 in c:\\users\\vinut\\appdata\\local\\packages\\pythonsoftwarefoundation.python.3.11_qbz5n2kfra8p0\\localcache\\local-packages\\python311\\site-packages (from jsonschema>=2.6->nbformat) (0.36.2)\n",
      "Requirement already satisfied: rpds-py>=0.7.1 in c:\\users\\vinut\\appdata\\local\\packages\\pythonsoftwarefoundation.python.3.11_qbz5n2kfra8p0\\localcache\\local-packages\\python311\\site-packages (from jsonschema>=2.6->nbformat) (0.23.1)\n",
      "Requirement already satisfied: platformdirs>=2.5 in c:\\users\\vinut\\appdata\\local\\packages\\pythonsoftwarefoundation.python.3.11_qbz5n2kfra8p0\\localcache\\local-packages\\python311\\site-packages (from jupyter-core!=5.0.*,>=4.12->nbformat) (4.2.0)\n",
      "Requirement already satisfied: pywin32>=300 in c:\\users\\vinut\\appdata\\local\\packages\\pythonsoftwarefoundation.python.3.11_qbz5n2kfra8p0\\localcache\\local-packages\\python311\\site-packages (from jupyter-core!=5.0.*,>=4.12->nbformat) (306)\n",
      "Requirement already satisfied: typing-extensions>=4.4.0 in c:\\users\\vinut\\appdata\\local\\packages\\pythonsoftwarefoundation.python.3.11_qbz5n2kfra8p0\\localcache\\local-packages\\python311\\site-packages (from referencing>=0.28.4->jsonschema>=2.6->nbformat) (4.11.0)\n"
     ]
    }
   ],
   "source": [
    "!pip install --upgrade nbformat\n"
   ]
  },
  {
   "cell_type": "code",
   "execution_count": 13,
   "metadata": {},
   "outputs": [
    {
     "data": {
      "application/vnd.plotly.v1+json": {
       "config": {
        "plotlyServerURL": "https://plot.ly"
       },
       "data": [
        {
         "hovertemplate": "variable=playlist_genre<br>Playlist Genre=%{x}<br>Count=%{y}<extra></extra>",
         "legendgroup": "playlist_genre",
         "marker": {
          "color": "#636efa",
          "pattern": {
           "shape": ""
          }
         },
         "name": "playlist_genre",
         "orientation": "v",
         "showlegend": true,
         "textposition": "auto",
         "type": "bar",
         "x": [
          "afrobeats",
          "ambient",
          "arabic",
          "blues",
          "brazilian",
          "classical",
          "country",
          "electronic",
          "folk",
          "gaming",
          "hip-hop",
          "indian",
          "indie",
          "j-pop",
          "jazz",
          "k-pop",
          "korean",
          "latin",
          "lofi",
          "metal",
          "pop",
          "punk",
          "r&b",
          "reggae",
          "rock",
          "soul",
          "turkish",
          "world"
         ],
         "xaxis": "x",
         "y": {
          "bdata": "FAA9ADIALQAOAAoAAwCUACEAZADjAAkABAALAAEACwAIALgAAgAjAGUBMgAyAAUA6wACAAcABAA=",
          "dtype": "i2"
         },
         "yaxis": "y"
        }
       ],
       "layout": {
        "barmode": "relative",
        "legend": {
         "title": {
          "text": "variable"
         },
         "tracegroupgap": 0
        },
        "template": {
         "data": {
          "bar": [
           {
            "error_x": {
             "color": "#2a3f5f"
            },
            "error_y": {
             "color": "#2a3f5f"
            },
            "marker": {
             "line": {
              "color": "#E5ECF6",
              "width": 0.5
             },
             "pattern": {
              "fillmode": "overlay",
              "size": 10,
              "solidity": 0.2
             }
            },
            "type": "bar"
           }
          ],
          "barpolar": [
           {
            "marker": {
             "line": {
              "color": "#E5ECF6",
              "width": 0.5
             },
             "pattern": {
              "fillmode": "overlay",
              "size": 10,
              "solidity": 0.2
             }
            },
            "type": "barpolar"
           }
          ],
          "carpet": [
           {
            "aaxis": {
             "endlinecolor": "#2a3f5f",
             "gridcolor": "white",
             "linecolor": "white",
             "minorgridcolor": "white",
             "startlinecolor": "#2a3f5f"
            },
            "baxis": {
             "endlinecolor": "#2a3f5f",
             "gridcolor": "white",
             "linecolor": "white",
             "minorgridcolor": "white",
             "startlinecolor": "#2a3f5f"
            },
            "type": "carpet"
           }
          ],
          "choropleth": [
           {
            "colorbar": {
             "outlinewidth": 0,
             "ticks": ""
            },
            "type": "choropleth"
           }
          ],
          "contour": [
           {
            "colorbar": {
             "outlinewidth": 0,
             "ticks": ""
            },
            "colorscale": [
             [
              0,
              "#0d0887"
             ],
             [
              0.1111111111111111,
              "#46039f"
             ],
             [
              0.2222222222222222,
              "#7201a8"
             ],
             [
              0.3333333333333333,
              "#9c179e"
             ],
             [
              0.4444444444444444,
              "#bd3786"
             ],
             [
              0.5555555555555556,
              "#d8576b"
             ],
             [
              0.6666666666666666,
              "#ed7953"
             ],
             [
              0.7777777777777778,
              "#fb9f3a"
             ],
             [
              0.8888888888888888,
              "#fdca26"
             ],
             [
              1,
              "#f0f921"
             ]
            ],
            "type": "contour"
           }
          ],
          "contourcarpet": [
           {
            "colorbar": {
             "outlinewidth": 0,
             "ticks": ""
            },
            "type": "contourcarpet"
           }
          ],
          "heatmap": [
           {
            "colorbar": {
             "outlinewidth": 0,
             "ticks": ""
            },
            "colorscale": [
             [
              0,
              "#0d0887"
             ],
             [
              0.1111111111111111,
              "#46039f"
             ],
             [
              0.2222222222222222,
              "#7201a8"
             ],
             [
              0.3333333333333333,
              "#9c179e"
             ],
             [
              0.4444444444444444,
              "#bd3786"
             ],
             [
              0.5555555555555556,
              "#d8576b"
             ],
             [
              0.6666666666666666,
              "#ed7953"
             ],
             [
              0.7777777777777778,
              "#fb9f3a"
             ],
             [
              0.8888888888888888,
              "#fdca26"
             ],
             [
              1,
              "#f0f921"
             ]
            ],
            "type": "heatmap"
           }
          ],
          "histogram": [
           {
            "marker": {
             "pattern": {
              "fillmode": "overlay",
              "size": 10,
              "solidity": 0.2
             }
            },
            "type": "histogram"
           }
          ],
          "histogram2d": [
           {
            "colorbar": {
             "outlinewidth": 0,
             "ticks": ""
            },
            "colorscale": [
             [
              0,
              "#0d0887"
             ],
             [
              0.1111111111111111,
              "#46039f"
             ],
             [
              0.2222222222222222,
              "#7201a8"
             ],
             [
              0.3333333333333333,
              "#9c179e"
             ],
             [
              0.4444444444444444,
              "#bd3786"
             ],
             [
              0.5555555555555556,
              "#d8576b"
             ],
             [
              0.6666666666666666,
              "#ed7953"
             ],
             [
              0.7777777777777778,
              "#fb9f3a"
             ],
             [
              0.8888888888888888,
              "#fdca26"
             ],
             [
              1,
              "#f0f921"
             ]
            ],
            "type": "histogram2d"
           }
          ],
          "histogram2dcontour": [
           {
            "colorbar": {
             "outlinewidth": 0,
             "ticks": ""
            },
            "colorscale": [
             [
              0,
              "#0d0887"
             ],
             [
              0.1111111111111111,
              "#46039f"
             ],
             [
              0.2222222222222222,
              "#7201a8"
             ],
             [
              0.3333333333333333,
              "#9c179e"
             ],
             [
              0.4444444444444444,
              "#bd3786"
             ],
             [
              0.5555555555555556,
              "#d8576b"
             ],
             [
              0.6666666666666666,
              "#ed7953"
             ],
             [
              0.7777777777777778,
              "#fb9f3a"
             ],
             [
              0.8888888888888888,
              "#fdca26"
             ],
             [
              1,
              "#f0f921"
             ]
            ],
            "type": "histogram2dcontour"
           }
          ],
          "mesh3d": [
           {
            "colorbar": {
             "outlinewidth": 0,
             "ticks": ""
            },
            "type": "mesh3d"
           }
          ],
          "parcoords": [
           {
            "line": {
             "colorbar": {
              "outlinewidth": 0,
              "ticks": ""
             }
            },
            "type": "parcoords"
           }
          ],
          "pie": [
           {
            "automargin": true,
            "type": "pie"
           }
          ],
          "scatter": [
           {
            "fillpattern": {
             "fillmode": "overlay",
             "size": 10,
             "solidity": 0.2
            },
            "type": "scatter"
           }
          ],
          "scatter3d": [
           {
            "line": {
             "colorbar": {
              "outlinewidth": 0,
              "ticks": ""
             }
            },
            "marker": {
             "colorbar": {
              "outlinewidth": 0,
              "ticks": ""
             }
            },
            "type": "scatter3d"
           }
          ],
          "scattercarpet": [
           {
            "marker": {
             "colorbar": {
              "outlinewidth": 0,
              "ticks": ""
             }
            },
            "type": "scattercarpet"
           }
          ],
          "scattergeo": [
           {
            "marker": {
             "colorbar": {
              "outlinewidth": 0,
              "ticks": ""
             }
            },
            "type": "scattergeo"
           }
          ],
          "scattergl": [
           {
            "marker": {
             "colorbar": {
              "outlinewidth": 0,
              "ticks": ""
             }
            },
            "type": "scattergl"
           }
          ],
          "scattermap": [
           {
            "marker": {
             "colorbar": {
              "outlinewidth": 0,
              "ticks": ""
             }
            },
            "type": "scattermap"
           }
          ],
          "scattermapbox": [
           {
            "marker": {
             "colorbar": {
              "outlinewidth": 0,
              "ticks": ""
             }
            },
            "type": "scattermapbox"
           }
          ],
          "scatterpolar": [
           {
            "marker": {
             "colorbar": {
              "outlinewidth": 0,
              "ticks": ""
             }
            },
            "type": "scatterpolar"
           }
          ],
          "scatterpolargl": [
           {
            "marker": {
             "colorbar": {
              "outlinewidth": 0,
              "ticks": ""
             }
            },
            "type": "scatterpolargl"
           }
          ],
          "scatterternary": [
           {
            "marker": {
             "colorbar": {
              "outlinewidth": 0,
              "ticks": ""
             }
            },
            "type": "scatterternary"
           }
          ],
          "surface": [
           {
            "colorbar": {
             "outlinewidth": 0,
             "ticks": ""
            },
            "colorscale": [
             [
              0,
              "#0d0887"
             ],
             [
              0.1111111111111111,
              "#46039f"
             ],
             [
              0.2222222222222222,
              "#7201a8"
             ],
             [
              0.3333333333333333,
              "#9c179e"
             ],
             [
              0.4444444444444444,
              "#bd3786"
             ],
             [
              0.5555555555555556,
              "#d8576b"
             ],
             [
              0.6666666666666666,
              "#ed7953"
             ],
             [
              0.7777777777777778,
              "#fb9f3a"
             ],
             [
              0.8888888888888888,
              "#fdca26"
             ],
             [
              1,
              "#f0f921"
             ]
            ],
            "type": "surface"
           }
          ],
          "table": [
           {
            "cells": {
             "fill": {
              "color": "#EBF0F8"
             },
             "line": {
              "color": "white"
             }
            },
            "header": {
             "fill": {
              "color": "#C8D4E3"
             },
             "line": {
              "color": "white"
             }
            },
            "type": "table"
           }
          ]
         },
         "layout": {
          "annotationdefaults": {
           "arrowcolor": "#2a3f5f",
           "arrowhead": 0,
           "arrowwidth": 1
          },
          "autotypenumbers": "strict",
          "coloraxis": {
           "colorbar": {
            "outlinewidth": 0,
            "ticks": ""
           }
          },
          "colorscale": {
           "diverging": [
            [
             0,
             "#8e0152"
            ],
            [
             0.1,
             "#c51b7d"
            ],
            [
             0.2,
             "#de77ae"
            ],
            [
             0.3,
             "#f1b6da"
            ],
            [
             0.4,
             "#fde0ef"
            ],
            [
             0.5,
             "#f7f7f7"
            ],
            [
             0.6,
             "#e6f5d0"
            ],
            [
             0.7,
             "#b8e186"
            ],
            [
             0.8,
             "#7fbc41"
            ],
            [
             0.9,
             "#4d9221"
            ],
            [
             1,
             "#276419"
            ]
           ],
           "sequential": [
            [
             0,
             "#0d0887"
            ],
            [
             0.1111111111111111,
             "#46039f"
            ],
            [
             0.2222222222222222,
             "#7201a8"
            ],
            [
             0.3333333333333333,
             "#9c179e"
            ],
            [
             0.4444444444444444,
             "#bd3786"
            ],
            [
             0.5555555555555556,
             "#d8576b"
            ],
            [
             0.6666666666666666,
             "#ed7953"
            ],
            [
             0.7777777777777778,
             "#fb9f3a"
            ],
            [
             0.8888888888888888,
             "#fdca26"
            ],
            [
             1,
             "#f0f921"
            ]
           ],
           "sequentialminus": [
            [
             0,
             "#0d0887"
            ],
            [
             0.1111111111111111,
             "#46039f"
            ],
            [
             0.2222222222222222,
             "#7201a8"
            ],
            [
             0.3333333333333333,
             "#9c179e"
            ],
            [
             0.4444444444444444,
             "#bd3786"
            ],
            [
             0.5555555555555556,
             "#d8576b"
            ],
            [
             0.6666666666666666,
             "#ed7953"
            ],
            [
             0.7777777777777778,
             "#fb9f3a"
            ],
            [
             0.8888888888888888,
             "#fdca26"
            ],
            [
             1,
             "#f0f921"
            ]
           ]
          },
          "colorway": [
           "#636efa",
           "#EF553B",
           "#00cc96",
           "#ab63fa",
           "#FFA15A",
           "#19d3f3",
           "#FF6692",
           "#B6E880",
           "#FF97FF",
           "#FECB52"
          ],
          "font": {
           "color": "#2a3f5f"
          },
          "geo": {
           "bgcolor": "white",
           "lakecolor": "white",
           "landcolor": "#E5ECF6",
           "showlakes": true,
           "showland": true,
           "subunitcolor": "white"
          },
          "hoverlabel": {
           "align": "left"
          },
          "hovermode": "closest",
          "mapbox": {
           "style": "light"
          },
          "paper_bgcolor": "white",
          "plot_bgcolor": "#E5ECF6",
          "polar": {
           "angularaxis": {
            "gridcolor": "white",
            "linecolor": "white",
            "ticks": ""
           },
           "bgcolor": "#E5ECF6",
           "radialaxis": {
            "gridcolor": "white",
            "linecolor": "white",
            "ticks": ""
           }
          },
          "scene": {
           "xaxis": {
            "backgroundcolor": "#E5ECF6",
            "gridcolor": "white",
            "gridwidth": 2,
            "linecolor": "white",
            "showbackground": true,
            "ticks": "",
            "zerolinecolor": "white"
           },
           "yaxis": {
            "backgroundcolor": "#E5ECF6",
            "gridcolor": "white",
            "gridwidth": 2,
            "linecolor": "white",
            "showbackground": true,
            "ticks": "",
            "zerolinecolor": "white"
           },
           "zaxis": {
            "backgroundcolor": "#E5ECF6",
            "gridcolor": "white",
            "gridwidth": 2,
            "linecolor": "white",
            "showbackground": true,
            "ticks": "",
            "zerolinecolor": "white"
           }
          },
          "shapedefaults": {
           "line": {
            "color": "#2a3f5f"
           }
          },
          "ternary": {
           "aaxis": {
            "gridcolor": "white",
            "linecolor": "white",
            "ticks": ""
           },
           "baxis": {
            "gridcolor": "white",
            "linecolor": "white",
            "ticks": ""
           },
           "bgcolor": "#E5ECF6",
           "caxis": {
            "gridcolor": "white",
            "linecolor": "white",
            "ticks": ""
           }
          },
          "title": {
           "x": 0.05
          },
          "xaxis": {
           "automargin": true,
           "gridcolor": "white",
           "linecolor": "white",
           "ticks": "",
           "title": {
            "standoff": 15
           },
           "zerolinecolor": "white",
           "zerolinewidth": 2
          },
          "yaxis": {
           "automargin": true,
           "gridcolor": "white",
           "linecolor": "white",
           "ticks": "",
           "title": {
            "standoff": 15
           },
           "zerolinecolor": "white",
           "zerolinewidth": 2
          }
         }
        },
        "title": {
         "text": "Playlist Genre Count for High Popularity Songs"
        },
        "xaxis": {
         "anchor": "y",
         "domain": [
          0,
          1
         ],
         "title": {
          "text": "Playlist Genre"
         }
        },
        "yaxis": {
         "anchor": "x",
         "domain": [
          0,
          1
         ],
         "title": {
          "text": "Count"
         }
        }
       }
      }
     },
     "metadata": {},
     "output_type": "display_data"
    }
   ],
   "source": [
    "pl_genre_count_high = high.groupby('playlist_genre')['playlist_genre'].count()\n",
    "fig = px.bar(pl_genre_count_high, labels = {'index': 'Playlist Genre', 'value': 'Count'}, title = 'Playlist Genre Count for High Popularity Songs')\n",
    "fig"
   ]
  },
  {
   "cell_type": "code",
   "execution_count": null,
   "metadata": {},
   "outputs": [],
   "source": []
  },
  {
   "cell_type": "code",
   "execution_count": 14,
   "metadata": {},
   "outputs": [],
   "source": [
    "# pl_genre_count_low = low.groupby('playlist_genre')['playlist_genre'].count()\n",
    "# fig1 = px.bar(pl_genre_count_low, labels = {'index': 'Playlist Genre', 'value': 'Count'},\n",
    "#               title = 'Playlist Genre Count for Low Popularity Songs')\n",
    "# fig1"
   ]
  },
  {
   "cell_type": "code",
   "execution_count": 15,
   "metadata": {},
   "outputs": [],
   "source": [
    "# fig3 = px.histogram(df_tot, x='track_popularity', nbins=30, title = \"Distribution of Track Popularity\")\n",
    "# fig3.update_layout(bargap=0.2)\n",
    "# fig3.show()"
   ]
  },
  {
   "cell_type": "code",
   "execution_count": 16,
   "metadata": {},
   "outputs": [
    {
     "data": {
      "image/png": "[encoded data removed]",
      "text/plain": [
       "<Figure size 1000x500 with 1 Axes>"
      ]
     },
     "metadata": {},
     "output_type": "display_data"
    }
   ],
   "source": [
    "plt.figure(figsize=(10,5))\n",
    "sns.histplot(df_tot['track_popularity'], bins=30, kde=True, color='blue')\n",
    "plt.title('Distribution of Track Popularity')\n",
    "plt.xlabel('Popularity Score')\n",
    "plt.ylabel('Count')\n",
    "plt.show()"
   ]
  },
  {
   "cell_type": "code",
   "execution_count": 17,
   "metadata": {},
   "outputs": [
    {
     "data": {
      "image/png": "[encoded data removed]",
      "text/plain": [
       "<Figure size 1200x600 with 1 Axes>"
      ]
     },
     "metadata": {},
     "output_type": "display_data"
    }
   ],
   "source": [
    "plt.figure(figsize=(12,6))\n",
    "sns.boxplot(data=df_tot, x=\"playlist_genre\", y=\"track_popularity\")\n",
    "plt.xticks(rotation=45)\n",
    "plt.title(\"Popularity Distribution by Genre\")\n",
    "plt.show()"
   ]
  },
  {
   "cell_type": "code",
   "execution_count": 18,
   "metadata": {},
   "outputs": [],
   "source": [
    "top_artists = df_tot['track_artist'].value_counts().head(10).index  # Top 10 artists by track count\n",
    "filtered_df = df_tot[df_tot['track_artist'].isin(top_artists)]"
   ]
  },
  {
   "cell_type": "code",
   "execution_count": 19,
   "metadata": {},
   "outputs": [
    {
     "data": {
      "image/png": "[encoded data removed]",
      "text/plain": [
       "<Figure size 1200x600 with 1 Axes>"
      ]
     },
     "metadata": {},
     "output_type": "display_data"
    }
   ],
   "source": [
    "plt.figure(figsize=(12,6))\n",
    "sns.boxplot(data=filtered_df, x=\"track_artist\", y=\"track_popularity\")\n",
    "plt.xticks(rotation=45)\n",
    "plt.title(\"Popularity Distribution of Top 10 Artists\")\n",
    "plt.show()"
   ]
  },
  {
   "cell_type": "code",
   "execution_count": 20,
   "metadata": {},
   "outputs": [
    {
     "data": {
      "image/png": "[encoded data removed]",
      "text/plain": [
       "<Figure size 1200x600 with 2 Axes>"
      ]
     },
     "metadata": {},
     "output_type": "display_data"
    }
   ],
   "source": [
    "plt.figure(figsize=(12,6))\n",
    "sns.heatmap(df_tot.corr(numeric_only=True), annot=True, cmap=\"coolwarm\", fmt=\".2f\")\n",
    "plt.title(\"Feature Correlation Heatmap\")\n",
    "plt.show()\n"
   ]
  },
  {
   "cell_type": "code",
   "execution_count": 21,
   "metadata": {},
   "outputs": [],
   "source": [
    "artist_popularity = df_tot.groupby(\"track_artist\")[\"track_popularity\"].mean().reset_index()\n",
    "artist_popularity = artist_popularity.sort_values(\"track_popularity\", ascending=False).head(10)"
   ]
  },
  {
   "cell_type": "code",
   "execution_count": 22,
   "metadata": {},
   "outputs": [
    {
     "name": "stderr",
     "output_type": "stream",
     "text": [
      "C:\\Users\\vinut\\AppData\\Local\\Temp\\ipykernel_24380\\1261831987.py:2: FutureWarning:\n",
      "\n",
      "\n",
      "\n",
      "Passing `palette` without assigning `hue` is deprecated and will be removed in v0.14.0. Assign the `x` variable to `hue` and set `legend=False` for the same effect.\n",
      "\n",
      "\n"
     ]
    },
    {
     "data": {
      "image/png": "[encoded data removed]",
      "text/plain": [
       "<Figure size 1200x600 with 1 Axes>"
      ]
     },
     "metadata": {},
     "output_type": "display_data"
    }
   ],
   "source": [
    "plt.figure(figsize=(12,6))\n",
    "sns.barplot(data=artist_popularity, x=\"track_artist\", y=\"track_popularity\", palette=\"viridis\")\n",
    "plt.xticks(rotation=45)\n",
    "plt.title(\"Top 10 Artists with Highest Average Popularity\")\n",
    "plt.show()"
   ]
  },
  {
   "cell_type": "code",
   "execution_count": 23,
   "metadata": {},
   "outputs": [
    {
     "name": "stderr",
     "output_type": "stream",
     "text": [
      "C:\\Users\\vinut\\AppData\\Local\\Temp\\ipykernel_24380\\2100237439.py:4: FutureWarning:\n",
      "\n",
      "\n",
      "\n",
      "Passing `palette` without assigning `hue` is deprecated and will be removed in v0.14.0. Assign the `x` variable to `hue` and set `legend=False` for the same effect.\n",
      "\n",
      "\n"
     ]
    },
    {
     "data": {
      "image/png": "[encoded data removed]",
      "text/plain": [
       "<Figure size 1200x600 with 1 Axes>"
      ]
     },
     "metadata": {},
     "output_type": "display_data"
    }
   ],
   "source": [
    "top_tracks = df_tot.sort_values(by=\"track_popularity\", ascending=False).head(10)\n",
    "# Plot bar chart for the top 10 tracks\n",
    "plt.figure(figsize=(12,6))\n",
    "sns.barplot(data=top_tracks, x=\"track_name\", y=\"track_popularity\", palette=\"viridis\")\n",
    "\n",
    "plt.xticks(rotation=45, ha=\"right\")  # Rotate x-axis labels for readability\n",
    "plt.xlabel(\"Track Name\")\n",
    "plt.ylabel(\"Popularity Score\")\n",
    "plt.title(\"Top 10 Most Popular Tracks\")\n",
    "plt.show()"
   ]
  },
  {
   "cell_type": "code",
   "execution_count": 24,
   "metadata": {},
   "outputs": [
    {
     "data": {
      "text/plain": [
       "455    audio_features\n",
       "0      audio_features\n",
       "676    audio_features\n",
       "4      audio_features\n",
       "677    audio_features\n",
       "1      audio_features\n",
       "456    audio_features\n",
       "678    audio_features\n",
       "688    audio_features\n",
       "457    audio_features\n",
       "Name: type, dtype: object"
      ]
     },
     "execution_count": 24,
     "metadata": {},
     "output_type": "execute_result"
    }
   ],
   "source": [
    "top_tracks['type']"
   ]
  },
  {
   "cell_type": "code",
   "execution_count": 25,
   "metadata": {},
   "outputs": [
    {
     "data": {
      "text/plain": [
       "track_album_name\n",
       "Sincerely, Benson                                      21\n",
       "Future Sight                                           18\n",
       "Un Verano Sin Ti                                       17\n",
       "Timeless                                               13\n",
       "Morayo                                                 12\n",
       "                                                       ..\n",
       "Debussy: Suite bergamasque, L. 75, 3. Clair de lune     1\n",
       "Gnossienne No. 1                                        1\n",
       "Mahler: Symphony No. 5                                  1\n",
       "Aranjuez                                                1\n",
       "Rachmaninov: Piano Concerto No.2                        1\n",
       "Name: count, Length: 3815, dtype: int64"
      ]
     },
     "execution_count": 25,
     "metadata": {},
     "output_type": "execute_result"
    }
   ],
   "source": [
    "df_tot['track_album_name'].value_counts()"
   ]
  },
  {
   "cell_type": "code",
   "execution_count": 26,
   "metadata": {},
   "outputs": [
    {
     "data": {
      "text/plain": [
       "Index(['time_signature', 'track_popularity', 'speechiness', 'danceability',\n",
       "       'playlist_name', 'track_artist', 'duration_ms', 'energy',\n",
       "       'playlist_genre', 'playlist_subgenre', 'track_href', 'track_name',\n",
       "       'mode', 'uri', 'type', 'track_album_release_date', 'analysis_url', 'id',\n",
       "       'instrumentalness', 'track_album_id', 'playlist_id', 'track_id',\n",
       "       'valence', 'key', 'tempo', 'loudness', 'acousticness', 'liveness',\n",
       "       'track_album_name'],\n",
       "      dtype='object')"
      ]
     },
     "execution_count": 26,
     "metadata": {},
     "output_type": "execute_result"
    }
   ],
   "source": [
    "df_tot.columns"
   ]
  },
  {
   "cell_type": "code",
   "execution_count": 27,
   "metadata": {},
   "outputs": [],
   "source": [
    "\n",
    "def most_common_genre(genre_string):\n",
    "    genres = genre_string.split(\", \") \n",
    "    return max(set(genres), key=genres.count)"
   ]
  },
  {
   "cell_type": "code",
   "execution_count": 28,
   "metadata": {},
   "outputs": [
    {
     "data": {
      "text/html": [
       "<div>\n",
       "<style scoped>\n",
       "    .dataframe tbody tr th:only-of-type {\n",
       "        vertical-align: middle;\n",
       "    }\n",
       "\n",
       "    .dataframe tbody tr th {\n",
       "        vertical-align: top;\n",
       "    }\n",
       "\n",
       "    .dataframe thead th {\n",
       "        text-align: right;\n",
       "    }\n",
       "</style>\n",
       "<table border=\"1\" class=\"dataframe\">\n",
       "  <thead>\n",
       "    <tr style=\"text-align: right;\">\n",
       "      <th></th>\n",
       "      <th>time_signature</th>\n",
       "      <th>track_popularity</th>\n",
       "      <th>speechiness</th>\n",
       "      <th>danceability</th>\n",
       "      <th>playlist_name</th>\n",
       "      <th>track_artist</th>\n",
       "      <th>duration_ms</th>\n",
       "      <th>energy</th>\n",
       "      <th>playlist_genre</th>\n",
       "      <th>playlist_subgenre</th>\n",
       "      <th>...</th>\n",
       "      <th>playlist_id</th>\n",
       "      <th>track_id</th>\n",
       "      <th>valence</th>\n",
       "      <th>key</th>\n",
       "      <th>tempo</th>\n",
       "      <th>loudness</th>\n",
       "      <th>acousticness</th>\n",
       "      <th>liveness</th>\n",
       "      <th>track_album_name</th>\n",
       "      <th>track_genre_pseudo</th>\n",
       "    </tr>\n",
       "  </thead>\n",
       "  <tbody>\n",
       "    <tr>\n",
       "      <th>0</th>\n",
       "      <td>4.0</td>\n",
       "      <td>23</td>\n",
       "      <td>0.0393</td>\n",
       "      <td>0.636</td>\n",
       "      <td>Rock Classics</td>\n",
       "      <td>Creedence Clearwater Revival</td>\n",
       "      <td>138053.0</td>\n",
       "      <td>0.746</td>\n",
       "      <td>rock</td>\n",
       "      <td>classic</td>\n",
       "      <td>...</td>\n",
       "      <td>37i9dQZF1DWXRqgorJj26U</td>\n",
       "      <td>5e6x5YRnMJIKvYpZxLqdpH</td>\n",
       "      <td>0.432</td>\n",
       "      <td>0.0</td>\n",
       "      <td>132.310</td>\n",
       "      <td>-3.785</td>\n",
       "      <td>0.0648</td>\n",
       "      <td>0.1730</td>\n",
       "      <td>The Long Road Home - The Ultimate John Fogerty...</td>\n",
       "      <td>rock</td>\n",
       "    </tr>\n",
       "    <tr>\n",
       "      <th>1</th>\n",
       "      <td>4.0</td>\n",
       "      <td>53</td>\n",
       "      <td>0.0317</td>\n",
       "      <td>0.572</td>\n",
       "      <td>Rock Classics</td>\n",
       "      <td>Van Halen</td>\n",
       "      <td>241600.0</td>\n",
       "      <td>0.835</td>\n",
       "      <td>rock</td>\n",
       "      <td>classic</td>\n",
       "      <td>...</td>\n",
       "      <td>37i9dQZF1DWXRqgorJj26U</td>\n",
       "      <td>5FqYA8KfiwsQvyBI4IamnY</td>\n",
       "      <td>0.795</td>\n",
       "      <td>0.0</td>\n",
       "      <td>129.981</td>\n",
       "      <td>-6.219</td>\n",
       "      <td>0.1710</td>\n",
       "      <td>0.0702</td>\n",
       "      <td>The Collection</td>\n",
       "      <td>rock</td>\n",
       "    </tr>\n",
       "    <tr>\n",
       "      <th>2</th>\n",
       "      <td>4.0</td>\n",
       "      <td>55</td>\n",
       "      <td>0.0454</td>\n",
       "      <td>0.591</td>\n",
       "      <td>Rock Classics</td>\n",
       "      <td>Stevie Nicks</td>\n",
       "      <td>329413.0</td>\n",
       "      <td>0.804</td>\n",
       "      <td>rock</td>\n",
       "      <td>classic</td>\n",
       "      <td>...</td>\n",
       "      <td>37i9dQZF1DWXRqgorJj26U</td>\n",
       "      <td>5LNiqEqpDc8TuqPy79kDBu</td>\n",
       "      <td>0.658</td>\n",
       "      <td>0.0</td>\n",
       "      <td>111.457</td>\n",
       "      <td>-7.299</td>\n",
       "      <td>0.3270</td>\n",
       "      <td>0.0818</td>\n",
       "      <td>Bella Donna (Deluxe Edition)</td>\n",
       "      <td>rock</td>\n",
       "    </tr>\n",
       "    <tr>\n",
       "      <th>3</th>\n",
       "      <td>4.0</td>\n",
       "      <td>64</td>\n",
       "      <td>0.1010</td>\n",
       "      <td>0.443</td>\n",
       "      <td>Jazz Classics</td>\n",
       "      <td>Ella Fitzgerald, Louis Armstrong</td>\n",
       "      <td>185160.0</td>\n",
       "      <td>0.104</td>\n",
       "      <td>jazz</td>\n",
       "      <td>classic</td>\n",
       "      <td>...</td>\n",
       "      <td>37i9dQZF1DXbITWG1ZJKYt</td>\n",
       "      <td>78MI7mu1LV1k4IA2HzKmHe</td>\n",
       "      <td>0.394</td>\n",
       "      <td>0.0</td>\n",
       "      <td>76.474</td>\n",
       "      <td>-17.042</td>\n",
       "      <td>0.9130</td>\n",
       "      <td>0.1910</td>\n",
       "      <td>Love, Ella</td>\n",
       "      <td>jazz</td>\n",
       "    </tr>\n",
       "    <tr>\n",
       "      <th>4</th>\n",
       "      <td>4.0</td>\n",
       "      <td>62</td>\n",
       "      <td>0.0298</td>\n",
       "      <td>0.685</td>\n",
       "      <td>Jazz Classics</td>\n",
       "      <td>Galt MacDermot</td>\n",
       "      <td>205720.0</td>\n",
       "      <td>0.472</td>\n",
       "      <td>jazz</td>\n",
       "      <td>classic</td>\n",
       "      <td>...</td>\n",
       "      <td>37i9dQZF1DXbITWG1ZJKYt</td>\n",
       "      <td>6MN6yRVriszuyAVlyF8ndB</td>\n",
       "      <td>0.475</td>\n",
       "      <td>9.0</td>\n",
       "      <td>80.487</td>\n",
       "      <td>-9.691</td>\n",
       "      <td>0.7850</td>\n",
       "      <td>0.2240</td>\n",
       "      <td>Shapes of Rhythm/Woman Is Sweeter</td>\n",
       "      <td>jazz</td>\n",
       "    </tr>\n",
       "    <tr>\n",
       "      <th>...</th>\n",
       "      <td>...</td>\n",
       "      <td>...</td>\n",
       "      <td>...</td>\n",
       "      <td>...</td>\n",
       "      <td>...</td>\n",
       "      <td>...</td>\n",
       "      <td>...</td>\n",
       "      <td>...</td>\n",
       "      <td>...</td>\n",
       "      <td>...</td>\n",
       "      <td>...</td>\n",
       "      <td>...</td>\n",
       "      <td>...</td>\n",
       "      <td>...</td>\n",
       "      <td>...</td>\n",
       "      <td>...</td>\n",
       "      <td>...</td>\n",
       "      <td>...</td>\n",
       "      <td>...</td>\n",
       "      <td>...</td>\n",
       "      <td>...</td>\n",
       "    </tr>\n",
       "    <tr>\n",
       "      <th>1681</th>\n",
       "      <td>5.0</td>\n",
       "      <td>76</td>\n",
       "      <td>0.0678</td>\n",
       "      <td>0.573</td>\n",
       "      <td>Afro-Latin Party</td>\n",
       "      <td>Libianca</td>\n",
       "      <td>184791.0</td>\n",
       "      <td>0.422</td>\n",
       "      <td>latin</td>\n",
       "      <td>afro-latin</td>\n",
       "      <td>...</td>\n",
       "      <td>0oU30cCr8klmMsuOKHDLkh</td>\n",
       "      <td>26b3oVLrRUaaybJulow9kz</td>\n",
       "      <td>0.693</td>\n",
       "      <td>10.0</td>\n",
       "      <td>124.357</td>\n",
       "      <td>-7.621</td>\n",
       "      <td>0.5510</td>\n",
       "      <td>0.1020</td>\n",
       "      <td>People</td>\n",
       "      <td>latin</td>\n",
       "    </tr>\n",
       "    <tr>\n",
       "      <th>1682</th>\n",
       "      <td>4.0</td>\n",
       "      <td>74</td>\n",
       "      <td>0.0941</td>\n",
       "      <td>0.711</td>\n",
       "      <td>Afro-Latin Party</td>\n",
       "      <td>Omah Lay</td>\n",
       "      <td>183057.0</td>\n",
       "      <td>0.725</td>\n",
       "      <td>latin</td>\n",
       "      <td>afro-latin</td>\n",
       "      <td>...</td>\n",
       "      <td>0oU30cCr8klmMsuOKHDLkh</td>\n",
       "      <td>1wADwLSkYhrSmy4vdy6BRn</td>\n",
       "      <td>0.530</td>\n",
       "      <td>3.0</td>\n",
       "      <td>105.016</td>\n",
       "      <td>-8.315</td>\n",
       "      <td>0.4240</td>\n",
       "      <td>0.1100</td>\n",
       "      <td>Boy Alone</td>\n",
       "      <td>latin</td>\n",
       "    </tr>\n",
       "    <tr>\n",
       "      <th>1683</th>\n",
       "      <td>4.0</td>\n",
       "      <td>69</td>\n",
       "      <td>0.0929</td>\n",
       "      <td>0.724</td>\n",
       "      <td>Afro-Latin Party</td>\n",
       "      <td>Davido, FAVE</td>\n",
       "      <td>194040.0</td>\n",
       "      <td>0.809</td>\n",
       "      <td>latin</td>\n",
       "      <td>afro-latin</td>\n",
       "      <td>...</td>\n",
       "      <td>0oU30cCr8klmMsuOKHDLkh</td>\n",
       "      <td>7vKXc90NT5WBm3UTT4iTVG</td>\n",
       "      <td>0.606</td>\n",
       "      <td>6.0</td>\n",
       "      <td>99.005</td>\n",
       "      <td>-5.022</td>\n",
       "      <td>0.1820</td>\n",
       "      <td>0.0765</td>\n",
       "      <td>Timeless</td>\n",
       "      <td>latin</td>\n",
       "    </tr>\n",
       "    <tr>\n",
       "      <th>1684</th>\n",
       "      <td>4.0</td>\n",
       "      <td>82</td>\n",
       "      <td>0.3400</td>\n",
       "      <td>0.463</td>\n",
       "      <td>Afro-Latin Party</td>\n",
       "      <td>Future, Drake, Tems</td>\n",
       "      <td>189893.0</td>\n",
       "      <td>0.642</td>\n",
       "      <td>latin</td>\n",
       "      <td>afro-latin</td>\n",
       "      <td>...</td>\n",
       "      <td>0oU30cCr8klmMsuOKHDLkh</td>\n",
       "      <td>59nOXPmaKlBfGMDeOVGrIK</td>\n",
       "      <td>0.339</td>\n",
       "      <td>1.0</td>\n",
       "      <td>83.389</td>\n",
       "      <td>-4.474</td>\n",
       "      <td>0.3140</td>\n",
       "      <td>0.0686</td>\n",
       "      <td>I NEVER LIKED YOU</td>\n",
       "      <td>gaming</td>\n",
       "    </tr>\n",
       "    <tr>\n",
       "      <th>1685</th>\n",
       "      <td>4.0</td>\n",
       "      <td>69</td>\n",
       "      <td>0.1280</td>\n",
       "      <td>0.645</td>\n",
       "      <td>Scandi Pop</td>\n",
       "      <td>Alan Walker, Ina Wroldsen</td>\n",
       "      <td>205087.0</td>\n",
       "      <td>0.890</td>\n",
       "      <td>pop</td>\n",
       "      <td>scandi</td>\n",
       "      <td>...</td>\n",
       "      <td>59z06GgF6TTDbm5cr1RZUC</td>\n",
       "      <td>2GE3k8I0Sbh0puCjI15KGy</td>\n",
       "      <td>0.421</td>\n",
       "      <td>6.0</td>\n",
       "      <td>126.881</td>\n",
       "      <td>-4.985</td>\n",
       "      <td>0.2590</td>\n",
       "      <td>0.3760</td>\n",
       "      <td>Barcelona</td>\n",
       "      <td>pop</td>\n",
       "    </tr>\n",
       "  </tbody>\n",
       "</table>\n",
       "<p>4831 rows × 30 columns</p>\n",
       "</div>"
      ],
      "text/plain": [
       "      time_signature  track_popularity  speechiness  danceability  \\\n",
       "0                4.0                23       0.0393         0.636   \n",
       "1                4.0                53       0.0317         0.572   \n",
       "2                4.0                55       0.0454         0.591   \n",
       "3                4.0                64       0.1010         0.443   \n",
       "4                4.0                62       0.0298         0.685   \n",
       "...              ...               ...          ...           ...   \n",
       "1681             5.0                76       0.0678         0.573   \n",
       "1682             4.0                74       0.0941         0.711   \n",
       "1683             4.0                69       0.0929         0.724   \n",
       "1684             4.0                82       0.3400         0.463   \n",
       "1685             4.0                69       0.1280         0.645   \n",
       "\n",
       "         playlist_name                      track_artist  duration_ms  energy  \\\n",
       "0        Rock Classics      Creedence Clearwater Revival     138053.0   0.746   \n",
       "1        Rock Classics                         Van Halen     241600.0   0.835   \n",
       "2        Rock Classics                      Stevie Nicks     329413.0   0.804   \n",
       "3        Jazz Classics  Ella Fitzgerald, Louis Armstrong     185160.0   0.104   \n",
       "4        Jazz Classics                    Galt MacDermot     205720.0   0.472   \n",
       "...                ...                               ...          ...     ...   \n",
       "1681  Afro-Latin Party                          Libianca     184791.0   0.422   \n",
       "1682  Afro-Latin Party                          Omah Lay     183057.0   0.725   \n",
       "1683  Afro-Latin Party                      Davido, FAVE     194040.0   0.809   \n",
       "1684  Afro-Latin Party               Future, Drake, Tems     189893.0   0.642   \n",
       "1685        Scandi Pop         Alan Walker, Ina Wroldsen     205087.0   0.890   \n",
       "\n",
       "     playlist_genre playlist_subgenre  ...             playlist_id  \\\n",
       "0              rock           classic  ...  37i9dQZF1DWXRqgorJj26U   \n",
       "1              rock           classic  ...  37i9dQZF1DWXRqgorJj26U   \n",
       "2              rock           classic  ...  37i9dQZF1DWXRqgorJj26U   \n",
       "3              jazz           classic  ...  37i9dQZF1DXbITWG1ZJKYt   \n",
       "4              jazz           classic  ...  37i9dQZF1DXbITWG1ZJKYt   \n",
       "...             ...               ...  ...                     ...   \n",
       "1681          latin        afro-latin  ...  0oU30cCr8klmMsuOKHDLkh   \n",
       "1682          latin        afro-latin  ...  0oU30cCr8klmMsuOKHDLkh   \n",
       "1683          latin        afro-latin  ...  0oU30cCr8klmMsuOKHDLkh   \n",
       "1684          latin        afro-latin  ...  0oU30cCr8klmMsuOKHDLkh   \n",
       "1685            pop            scandi  ...  59z06GgF6TTDbm5cr1RZUC   \n",
       "\n",
       "                    track_id  valence   key    tempo loudness acousticness  \\\n",
       "0     5e6x5YRnMJIKvYpZxLqdpH    0.432   0.0  132.310   -3.785       0.0648   \n",
       "1     5FqYA8KfiwsQvyBI4IamnY    0.795   0.0  129.981   -6.219       0.1710   \n",
       "2     5LNiqEqpDc8TuqPy79kDBu    0.658   0.0  111.457   -7.299       0.3270   \n",
       "3     78MI7mu1LV1k4IA2HzKmHe    0.394   0.0   76.474  -17.042       0.9130   \n",
       "4     6MN6yRVriszuyAVlyF8ndB    0.475   9.0   80.487   -9.691       0.7850   \n",
       "...                      ...      ...   ...      ...      ...          ...   \n",
       "1681  26b3oVLrRUaaybJulow9kz    0.693  10.0  124.357   -7.621       0.5510   \n",
       "1682  1wADwLSkYhrSmy4vdy6BRn    0.530   3.0  105.016   -8.315       0.4240   \n",
       "1683  7vKXc90NT5WBm3UTT4iTVG    0.606   6.0   99.005   -5.022       0.1820   \n",
       "1684  59nOXPmaKlBfGMDeOVGrIK    0.339   1.0   83.389   -4.474       0.3140   \n",
       "1685  2GE3k8I0Sbh0puCjI15KGy    0.421   6.0  126.881   -4.985       0.2590   \n",
       "\n",
       "     liveness                                   track_album_name  \\\n",
       "0      0.1730  The Long Road Home - The Ultimate John Fogerty...   \n",
       "1      0.0702                                     The Collection   \n",
       "2      0.0818                       Bella Donna (Deluxe Edition)   \n",
       "3      0.1910                                         Love, Ella   \n",
       "4      0.2240                  Shapes of Rhythm/Woman Is Sweeter   \n",
       "...       ...                                                ...   \n",
       "1681   0.1020                                             People   \n",
       "1682   0.1100                                          Boy Alone   \n",
       "1683   0.0765                                           Timeless   \n",
       "1684   0.0686                                  I NEVER LIKED YOU   \n",
       "1685   0.3760                                          Barcelona   \n",
       "\n",
       "     track_genre_pseudo  \n",
       "0                  rock  \n",
       "1                  rock  \n",
       "2                  rock  \n",
       "3                  jazz  \n",
       "4                  jazz  \n",
       "...                 ...  \n",
       "1681              latin  \n",
       "1682              latin  \n",
       "1683              latin  \n",
       "1684             gaming  \n",
       "1685                pop  \n",
       "\n",
       "[4831 rows x 30 columns]"
      ]
     },
     "execution_count": 28,
     "metadata": {},
     "output_type": "execute_result"
    }
   ],
   "source": [
    "df_grouped = df_tot.groupby(['track_artist', 'track_name'])['playlist_genre'].agg(\", \".join)\n",
    "df_grouped = df_grouped.apply(most_common_genre)\n",
    "df_tot['track_genre_pseudo'] = df_tot.set_index(['track_artist', 'track_name']).index.map(df_grouped)\n",
    "df_tot"
   ]
  },
  {
   "cell_type": "code",
   "execution_count": 29,
   "metadata": {},
   "outputs": [
    {
     "data": {
      "application/vnd.plotly.v1+json": {
       "config": {
        "plotlyServerURL": "https://plot.ly"
       },
       "data": [
        {
         "hovertemplate": "variable=track_genre_pseudo<br>Track Genre=%{x}<br>Count=%{y}<extra></extra>",
         "legendgroup": "track_genre_pseudo",
         "marker": {
          "color": "#636efa",
          "pattern": {
           "shape": ""
          }
         },
         "name": "track_genre_pseudo",
         "orientation": "v",
         "showlegend": true,
         "textposition": "auto",
         "type": "bar",
         "x": [
          "afrobeats",
          "ambient",
          "arabic",
          "blues",
          "brazilian",
          "cantopop",
          "classical",
          "country",
          "disco",
          "electronic",
          "folk",
          "funk",
          "gaming",
          "gospel",
          "hip-hop",
          "indian",
          "indie",
          "j-pop",
          "jazz",
          "k-pop",
          "korean",
          "latin",
          "lofi",
          "mandopop",
          "metal",
          "pop",
          "punk",
          "r&b",
          "reggae",
          "rock",
          "soca",
          "soul",
          "turkish",
          "wellness",
          "world"
         ],
         "xaxis": "x",
         "y": {
          "bdata": "YgB5AboATgCTABsAeQALAAkAOQI+ABwAjQAnAHIBOQASABcAkwARACMAngErAQ4AMwA7Ak8ANAAYAEsBDgArAEcAUADkAA==",
          "dtype": "i2"
         },
         "yaxis": "y"
        }
       ],
       "layout": {
        "barmode": "relative",
        "legend": {
         "title": {
          "text": "variable"
         },
         "tracegroupgap": 0
        },
        "template": {
         "data": {
          "bar": [
           {
            "error_x": {
             "color": "#2a3f5f"
            },
            "error_y": {
             "color": "#2a3f5f"
            },
            "marker": {
             "line": {
              "color": "#E5ECF6",
              "width": 0.5
             },
             "pattern": {
              "fillmode": "overlay",
              "size": 10,
              "solidity": 0.2
             }
            },
            "type": "bar"
           }
          ],
          "barpolar": [
           {
            "marker": {
             "line": {
              "color": "#E5ECF6",
              "width": 0.5
             },
             "pattern": {
              "fillmode": "overlay",
              "size": 10,
              "solidity": 0.2
             }
            },
            "type": "barpolar"
           }
          ],
          "carpet": [
           {
            "aaxis": {
             "endlinecolor": "#2a3f5f",
             "gridcolor": "white",
             "linecolor": "white",
             "minorgridcolor": "white",
             "startlinecolor": "#2a3f5f"
            },
            "baxis": {
             "endlinecolor": "#2a3f5f",
             "gridcolor": "white",
             "linecolor": "white",
             "minorgridcolor": "white",
             "startlinecolor": "#2a3f5f"
            },
            "type": "carpet"
           }
          ],
          "choropleth": [
           {
            "colorbar": {
             "outlinewidth": 0,
             "ticks": ""
            },
            "type": "choropleth"
           }
          ],
          "contour": [
           {
            "colorbar": {
             "outlinewidth": 0,
             "ticks": ""
            },
            "colorscale": [
             [
              0,
              "#0d0887"
             ],
             [
              0.1111111111111111,
              "#46039f"
             ],
             [
              0.2222222222222222,
              "#7201a8"
             ],
             [
              0.3333333333333333,
              "#9c179e"
             ],
             [
              0.4444444444444444,
              "#bd3786"
             ],
             [
              0.5555555555555556,
              "#d8576b"
             ],
             [
              0.6666666666666666,
              "#ed7953"
             ],
             [
              0.7777777777777778,
              "#fb9f3a"
             ],
             [
              0.8888888888888888,
              "#fdca26"
             ],
             [
              1,
              "#f0f921"
             ]
            ],
            "type": "contour"
           }
          ],
          "contourcarpet": [
           {
            "colorbar": {
             "outlinewidth": 0,
             "ticks": ""
            },
            "type": "contourcarpet"
           }
          ],
          "heatmap": [
           {
            "colorbar": {
             "outlinewidth": 0,
             "ticks": ""
            },
            "colorscale": [
             [
              0,
              "#0d0887"
             ],
             [
              0.1111111111111111,
              "#46039f"
             ],
             [
              0.2222222222222222,
              "#7201a8"
             ],
             [
              0.3333333333333333,
              "#9c179e"
             ],
             [
              0.4444444444444444,
              "#bd3786"
             ],
             [
              0.5555555555555556,
              "#d8576b"
             ],
             [
              0.6666666666666666,
              "#ed7953"
             ],
             [
              0.7777777777777778,
              "#fb9f3a"
             ],
             [
              0.8888888888888888,
              "#fdca26"
             ],
             [
              1,
              "#f0f921"
             ]
            ],
            "type": "heatmap"
           }
          ],
          "histogram": [
           {
            "marker": {
             "pattern": {
              "fillmode": "overlay",
              "size": 10,
              "solidity": 0.2
             }
            },
            "type": "histogram"
           }
          ],
          "histogram2d": [
           {
            "colorbar": {
             "outlinewidth": 0,
             "ticks": ""
            },
            "colorscale": [
             [
              0,
              "#0d0887"
             ],
             [
              0.1111111111111111,
              "#46039f"
             ],
             [
              0.2222222222222222,
              "#7201a8"
             ],
             [
              0.3333333333333333,
              "#9c179e"
             ],
             [
              0.4444444444444444,
              "#bd3786"
             ],
             [
              0.5555555555555556,
              "#d8576b"
             ],
             [
              0.6666666666666666,
              "#ed7953"
             ],
             [
              0.7777777777777778,
              "#fb9f3a"
             ],
             [
              0.8888888888888888,
              "#fdca26"
             ],
             [
              1,
              "#f0f921"
             ]
            ],
            "type": "histogram2d"
           }
          ],
          "histogram2dcontour": [
           {
            "colorbar": {
             "outlinewidth": 0,
             "ticks": ""
            },
            "colorscale": [
             [
              0,
              "#0d0887"
             ],
             [
              0.1111111111111111,
              "#46039f"
             ],
             [
              0.2222222222222222,
              "#7201a8"
             ],
             [
              0.3333333333333333,
              "#9c179e"
             ],
             [
              0.4444444444444444,
              "#bd3786"
             ],
             [
              0.5555555555555556,
              "#d8576b"
             ],
             [
              0.6666666666666666,
              "#ed7953"
             ],
             [
              0.7777777777777778,
              "#fb9f3a"
             ],
             [
              0.8888888888888888,
              "#fdca26"
             ],
             [
              1,
              "#f0f921"
             ]
            ],
            "type": "histogram2dcontour"
           }
          ],
          "mesh3d": [
           {
            "colorbar": {
             "outlinewidth": 0,
             "ticks": ""
            },
            "type": "mesh3d"
           }
          ],
          "parcoords": [
           {
            "line": {
             "colorbar": {
              "outlinewidth": 0,
              "ticks": ""
             }
            },
            "type": "parcoords"
           }
          ],
          "pie": [
           {
            "automargin": true,
            "type": "pie"
           }
          ],
          "scatter": [
           {
            "fillpattern": {
             "fillmode": "overlay",
             "size": 10,
             "solidity": 0.2
            },
            "type": "scatter"
           }
          ],
          "scatter3d": [
           {
            "line": {
             "colorbar": {
              "outlinewidth": 0,
              "ticks": ""
             }
            },
            "marker": {
             "colorbar": {
              "outlinewidth": 0,
              "ticks": ""
             }
            },
            "type": "scatter3d"
           }
          ],
          "scattercarpet": [
           {
            "marker": {
             "colorbar": {
              "outlinewidth": 0,
              "ticks": ""
             }
            },
            "type": "scattercarpet"
           }
          ],
          "scattergeo": [
           {
            "marker": {
             "colorbar": {
              "outlinewidth": 0,
              "ticks": ""
             }
            },
            "type": "scattergeo"
           }
          ],
          "scattergl": [
           {
            "marker": {
             "colorbar": {
              "outlinewidth": 0,
              "ticks": ""
             }
            },
            "type": "scattergl"
           }
          ],
          "scattermap": [
           {
            "marker": {
             "colorbar": {
              "outlinewidth": 0,
              "ticks": ""
             }
            },
            "type": "scattermap"
           }
          ],
          "scattermapbox": [
           {
            "marker": {
             "colorbar": {
              "outlinewidth": 0,
              "ticks": ""
             }
            },
            "type": "scattermapbox"
           }
          ],
          "scatterpolar": [
           {
            "marker": {
             "colorbar": {
              "outlinewidth": 0,
              "ticks": ""
             }
            },
            "type": "scatterpolar"
           }
          ],
          "scatterpolargl": [
           {
            "marker": {
             "colorbar": {
              "outlinewidth": 0,
              "ticks": ""
             }
            },
            "type": "scatterpolargl"
           }
          ],
          "scatterternary": [
           {
            "marker": {
             "colorbar": {
              "outlinewidth": 0,
              "ticks": ""
             }
            },
            "type": "scatterternary"
           }
          ],
          "surface": [
           {
            "colorbar": {
             "outlinewidth": 0,
             "ticks": ""
            },
            "colorscale": [
             [
              0,
              "#0d0887"
             ],
             [
              0.1111111111111111,
              "#46039f"
             ],
             [
              0.2222222222222222,
              "#7201a8"
             ],
             [
              0.3333333333333333,
              "#9c179e"
             ],
             [
              0.4444444444444444,
              "#bd3786"
             ],
             [
              0.5555555555555556,
              "#d8576b"
             ],
             [
              0.6666666666666666,
              "#ed7953"
             ],
             [
              0.7777777777777778,
              "#fb9f3a"
             ],
             [
              0.8888888888888888,
              "#fdca26"
             ],
             [
              1,
              "#f0f921"
             ]
            ],
            "type": "surface"
           }
          ],
          "table": [
           {
            "cells": {
             "fill": {
              "color": "#EBF0F8"
             },
             "line": {
              "color": "white"
             }
            },
            "header": {
             "fill": {
              "color": "#C8D4E3"
             },
             "line": {
              "color": "white"
             }
            },
            "type": "table"
           }
          ]
         },
         "layout": {
          "annotationdefaults": {
           "arrowcolor": "#2a3f5f",
           "arrowhead": 0,
           "arrowwidth": 1
          },
          "autotypenumbers": "strict",
          "coloraxis": {
           "colorbar": {
            "outlinewidth": 0,
            "ticks": ""
           }
          },
          "colorscale": {
           "diverging": [
            [
             0,
             "#8e0152"
            ],
            [
             0.1,
             "#c51b7d"
            ],
            [
             0.2,
             "#de77ae"
            ],
            [
             0.3,
             "#f1b6da"
            ],
            [
             0.4,
             "#fde0ef"
            ],
            [
             0.5,
             "#f7f7f7"
            ],
            [
             0.6,
             "#e6f5d0"
            ],
            [
             0.7,
             "#b8e186"
            ],
            [
             0.8,
             "#7fbc41"
            ],
            [
             0.9,
             "#4d9221"
            ],
            [
             1,
             "#276419"
            ]
           ],
           "sequential": [
            [
             0,
             "#0d0887"
            ],
            [
             0.1111111111111111,
             "#46039f"
            ],
            [
             0.2222222222222222,
             "#7201a8"
            ],
            [
             0.3333333333333333,
             "#9c179e"
            ],
            [
             0.4444444444444444,
             "#bd3786"
            ],
            [
             0.5555555555555556,
             "#d8576b"
            ],
            [
             0.6666666666666666,
             "#ed7953"
            ],
            [
             0.7777777777777778,
             "#fb9f3a"
            ],
            [
             0.8888888888888888,
             "#fdca26"
            ],
            [
             1,
             "#f0f921"
            ]
           ],
           "sequentialminus": [
            [
             0,
             "#0d0887"
            ],
            [
             0.1111111111111111,
             "#46039f"
            ],
            [
             0.2222222222222222,
             "#7201a8"
            ],
            [
             0.3333333333333333,
             "#9c179e"
            ],
            [
             0.4444444444444444,
             "#bd3786"
            ],
            [
             0.5555555555555556,
             "#d8576b"
            ],
            [
             0.6666666666666666,
             "#ed7953"
            ],
            [
             0.7777777777777778,
             "#fb9f3a"
            ],
            [
             0.8888888888888888,
             "#fdca26"
            ],
            [
             1,
             "#f0f921"
            ]
           ]
          },
          "colorway": [
           "#636efa",
           "#EF553B",
           "#00cc96",
           "#ab63fa",
           "#FFA15A",
           "#19d3f3",
           "#FF6692",
           "#B6E880",
           "#FF97FF",
           "#FECB52"
          ],
          "font": {
           "color": "#2a3f5f"
          },
          "geo": {
           "bgcolor": "white",
           "lakecolor": "white",
           "landcolor": "#E5ECF6",
           "showlakes": true,
           "showland": true,
           "subunitcolor": "white"
          },
          "hoverlabel": {
           "align": "left"
          },
          "hovermode": "closest",
          "mapbox": {
           "style": "light"
          },
          "paper_bgcolor": "white",
          "plot_bgcolor": "#E5ECF6",
          "polar": {
           "angularaxis": {
            "gridcolor": "white",
            "linecolor": "white",
            "ticks": ""
           },
           "bgcolor": "#E5ECF6",
           "radialaxis": {
            "gridcolor": "white",
            "linecolor": "white",
            "ticks": ""
           }
          },
          "scene": {
           "xaxis": {
            "backgroundcolor": "#E5ECF6",
            "gridcolor": "white",
            "gridwidth": 2,
            "linecolor": "white",
            "showbackground": true,
            "ticks": "",
            "zerolinecolor": "white"
           },
           "yaxis": {
            "backgroundcolor": "#E5ECF6",
            "gridcolor": "white",
            "gridwidth": 2,
            "linecolor": "white",
            "showbackground": true,
            "ticks": "",
            "zerolinecolor": "white"
           },
           "zaxis": {
            "backgroundcolor": "#E5ECF6",
            "gridcolor": "white",
            "gridwidth": 2,
            "linecolor": "white",
            "showbackground": true,
            "ticks": "",
            "zerolinecolor": "white"
           }
          },
          "shapedefaults": {
           "line": {
            "color": "#2a3f5f"
           }
          },
          "ternary": {
           "aaxis": {
            "gridcolor": "white",
            "linecolor": "white",
            "ticks": ""
           },
           "baxis": {
            "gridcolor": "white",
            "linecolor": "white",
            "ticks": ""
           },
           "bgcolor": "#E5ECF6",
           "caxis": {
            "gridcolor": "white",
            "linecolor": "white",
            "ticks": ""
           }
          },
          "title": {
           "x": 0.05
          },
          "xaxis": {
           "automargin": true,
           "gridcolor": "white",
           "linecolor": "white",
           "ticks": "",
           "title": {
            "standoff": 15
           },
           "zerolinecolor": "white",
           "zerolinewidth": 2
          },
          "yaxis": {
           "automargin": true,
           "gridcolor": "white",
           "linecolor": "white",
           "ticks": "",
           "title": {
            "standoff": 15
           },
           "zerolinecolor": "white",
           "zerolinewidth": 2
          }
         }
        },
        "title": {
         "text": "Track Genre Count"
        },
        "xaxis": {
         "anchor": "y",
         "domain": [
          0,
          1
         ],
         "title": {
          "text": "Track Genre"
         }
        },
        "yaxis": {
         "anchor": "x",
         "domain": [
          0,
          1
         ],
         "title": {
          "text": "Count"
         }
        }
       }
      }
     },
     "metadata": {},
     "output_type": "display_data"
    }
   ],
   "source": [
    "track_genre_count = df_tot.groupby('track_genre_pseudo')['track_genre_pseudo'].count()\n",
    "fig5 = px.bar(track_genre_count, labels = {'index': 'Track Genre', 'value': 'Count'},\n",
    "              title = 'Track Genre Count')\n",
    "fig5"
   ]
  },
  {
   "cell_type": "code",
   "execution_count": 30,
   "metadata": {},
   "outputs": [
    {
     "data": {
      "text/plain": [
       "<pandas.core.indexing._iLocIndexer at 0x23cad4596d0>"
      ]
     },
     "execution_count": 30,
     "metadata": {},
     "output_type": "execute_result"
    }
   ],
   "source": [
    "df_tot['Popularity Classification'] = df_tot['track_popularity'].apply(lambda x: 'high' if x > 68 else 'low')\n",
    "df_tot.iloc"
   ]
  },
  {
   "cell_type": "code",
   "execution_count": 31,
   "metadata": {},
   "outputs": [
    {
     "data": {
      "text/plain": [
       "Index(['time_signature', 'track_popularity', 'speechiness', 'danceability',\n",
       "       'playlist_name', 'track_artist', 'duration_ms', 'energy',\n",
       "       'playlist_genre', 'playlist_subgenre', 'track_href', 'track_name',\n",
       "       'mode', 'uri', 'type', 'track_album_release_date', 'analysis_url', 'id',\n",
       "       'instrumentalness', 'track_album_id', 'playlist_id', 'track_id',\n",
       "       'valence', 'key', 'tempo', 'loudness', 'acousticness', 'liveness',\n",
       "       'track_album_name', 'track_genre_pseudo', 'Popularity Classification'],\n",
       "      dtype='object')"
      ]
     },
     "execution_count": 31,
     "metadata": {},
     "output_type": "execute_result"
    }
   ],
   "source": [
    "df_tot.columns"
   ]
  },
  {
   "cell_type": "code",
   "execution_count": 32,
   "metadata": {},
   "outputs": [],
   "source": [
    "from sklearn.preprocessing import LabelEncoder, StandardScaler"
   ]
  },
  {
   "cell_type": "code",
   "execution_count": 33,
   "metadata": {},
   "outputs": [
    {
     "data": {
      "text/plain": [
       "playlist_subgenre\n",
       "modern         695\n",
       "chill          420\n",
       "classic        293\n",
       "meditative     231\n",
       "french         161\n",
       "              ... \n",
       "noir             8\n",
       "irish            6\n",
       "heavy            5\n",
       "avant-garde      2\n",
       "post-rock        2\n",
       "Name: count, Length: 84, dtype: int64"
      ]
     },
     "execution_count": 33,
     "metadata": {},
     "output_type": "execute_result"
    }
   ],
   "source": [
    "df_tot['playlist_subgenre'].value_counts()"
   ]
  },
  {
   "cell_type": "code",
   "execution_count": 34,
   "metadata": {},
   "outputs": [],
   "source": [
    "df_cop = df_tot.drop(['Popularity Classification', 'playlist_name', 'playlist_genre', 'id', 'uri', 'analysis_url', 'track_href', 'type', 'track_album_id', 'playlist_id', 'track_id', 'track_name', 'track_artist', 'track_album_name'], axis = 1)\n",
    "y = df_tot['Popularity Classification']\n",
    "cat = ['playlist_subgenre', 'track_genre_pseudo']\n",
    "df_cop[cat] = df_cop[cat].apply(LabelEncoder().fit_transform)\n",
    "df_cop['track_album_release_date'] = pd.to_datetime(df_cop['track_album_release_date'], errors='coerce').dt.year.fillna(0)"
   ]
  },
  {
   "cell_type": "code",
   "execution_count": 35,
   "metadata": {},
   "outputs": [
    {
     "data": {
      "text/html": [
       "<div>\n",
       "<style scoped>\n",
       "    .dataframe tbody tr th:only-of-type {\n",
       "        vertical-align: middle;\n",
       "    }\n",
       "\n",
       "    .dataframe tbody tr th {\n",
       "        vertical-align: top;\n",
       "    }\n",
       "\n",
       "    .dataframe thead th {\n",
       "        text-align: right;\n",
       "    }\n",
       "</style>\n",
       "<table border=\"1\" class=\"dataframe\">\n",
       "  <thead>\n",
       "    <tr style=\"text-align: right;\">\n",
       "      <th></th>\n",
       "      <th>time_signature</th>\n",
       "      <th>track_popularity</th>\n",
       "      <th>speechiness</th>\n",
       "      <th>danceability</th>\n",
       "      <th>duration_ms</th>\n",
       "      <th>energy</th>\n",
       "      <th>playlist_subgenre</th>\n",
       "      <th>mode</th>\n",
       "      <th>track_album_release_date</th>\n",
       "      <th>instrumentalness</th>\n",
       "      <th>valence</th>\n",
       "      <th>key</th>\n",
       "      <th>tempo</th>\n",
       "      <th>loudness</th>\n",
       "      <th>acousticness</th>\n",
       "      <th>liveness</th>\n",
       "      <th>track_genre_pseudo</th>\n",
       "    </tr>\n",
       "  </thead>\n",
       "  <tbody>\n",
       "    <tr>\n",
       "      <th>0</th>\n",
       "      <td>4.0</td>\n",
       "      <td>23</td>\n",
       "      <td>0.0393</td>\n",
       "      <td>0.636</td>\n",
       "      <td>138053.0</td>\n",
       "      <td>0.746</td>\n",
       "      <td>22</td>\n",
       "      <td>1.0</td>\n",
       "      <td>2005.0</td>\n",
       "      <td>0.290000</td>\n",
       "      <td>0.432</td>\n",
       "      <td>0.0</td>\n",
       "      <td>132.310</td>\n",
       "      <td>-3.785</td>\n",
       "      <td>0.0648</td>\n",
       "      <td>0.1730</td>\n",
       "      <td>29</td>\n",
       "    </tr>\n",
       "    <tr>\n",
       "      <th>1</th>\n",
       "      <td>4.0</td>\n",
       "      <td>53</td>\n",
       "      <td>0.0317</td>\n",
       "      <td>0.572</td>\n",
       "      <td>241600.0</td>\n",
       "      <td>0.835</td>\n",
       "      <td>22</td>\n",
       "      <td>1.0</td>\n",
       "      <td>2015.0</td>\n",
       "      <td>0.000377</td>\n",
       "      <td>0.795</td>\n",
       "      <td>0.0</td>\n",
       "      <td>129.981</td>\n",
       "      <td>-6.219</td>\n",
       "      <td>0.1710</td>\n",
       "      <td>0.0702</td>\n",
       "      <td>29</td>\n",
       "    </tr>\n",
       "    <tr>\n",
       "      <th>2</th>\n",
       "      <td>4.0</td>\n",
       "      <td>55</td>\n",
       "      <td>0.0454</td>\n",
       "      <td>0.591</td>\n",
       "      <td>329413.0</td>\n",
       "      <td>0.804</td>\n",
       "      <td>22</td>\n",
       "      <td>1.0</td>\n",
       "      <td>2016.0</td>\n",
       "      <td>0.000006</td>\n",
       "      <td>0.658</td>\n",
       "      <td>0.0</td>\n",
       "      <td>111.457</td>\n",
       "      <td>-7.299</td>\n",
       "      <td>0.3270</td>\n",
       "      <td>0.0818</td>\n",
       "      <td>29</td>\n",
       "    </tr>\n",
       "    <tr>\n",
       "      <th>3</th>\n",
       "      <td>4.0</td>\n",
       "      <td>64</td>\n",
       "      <td>0.1010</td>\n",
       "      <td>0.443</td>\n",
       "      <td>185160.0</td>\n",
       "      <td>0.104</td>\n",
       "      <td>22</td>\n",
       "      <td>1.0</td>\n",
       "      <td>2007.0</td>\n",
       "      <td>0.000000</td>\n",
       "      <td>0.394</td>\n",
       "      <td>0.0</td>\n",
       "      <td>76.474</td>\n",
       "      <td>-17.042</td>\n",
       "      <td>0.9130</td>\n",
       "      <td>0.1910</td>\n",
       "      <td>18</td>\n",
       "    </tr>\n",
       "    <tr>\n",
       "      <th>4</th>\n",
       "      <td>4.0</td>\n",
       "      <td>62</td>\n",
       "      <td>0.0298</td>\n",
       "      <td>0.685</td>\n",
       "      <td>205720.0</td>\n",
       "      <td>0.472</td>\n",
       "      <td>22</td>\n",
       "      <td>0.0</td>\n",
       "      <td>2000.0</td>\n",
       "      <td>0.284000</td>\n",
       "      <td>0.475</td>\n",
       "      <td>9.0</td>\n",
       "      <td>80.487</td>\n",
       "      <td>-9.691</td>\n",
       "      <td>0.7850</td>\n",
       "      <td>0.2240</td>\n",
       "      <td>18</td>\n",
       "    </tr>\n",
       "    <tr>\n",
       "      <th>...</th>\n",
       "      <td>...</td>\n",
       "      <td>...</td>\n",
       "      <td>...</td>\n",
       "      <td>...</td>\n",
       "      <td>...</td>\n",
       "      <td>...</td>\n",
       "      <td>...</td>\n",
       "      <td>...</td>\n",
       "      <td>...</td>\n",
       "      <td>...</td>\n",
       "      <td>...</td>\n",
       "      <td>...</td>\n",
       "      <td>...</td>\n",
       "      <td>...</td>\n",
       "      <td>...</td>\n",
       "      <td>...</td>\n",
       "      <td>...</td>\n",
       "    </tr>\n",
       "    <tr>\n",
       "      <th>1681</th>\n",
       "      <td>5.0</td>\n",
       "      <td>76</td>\n",
       "      <td>0.0678</td>\n",
       "      <td>0.573</td>\n",
       "      <td>184791.0</td>\n",
       "      <td>0.422</td>\n",
       "      <td>5</td>\n",
       "      <td>0.0</td>\n",
       "      <td>2022.0</td>\n",
       "      <td>0.000013</td>\n",
       "      <td>0.693</td>\n",
       "      <td>10.0</td>\n",
       "      <td>124.357</td>\n",
       "      <td>-7.621</td>\n",
       "      <td>0.5510</td>\n",
       "      <td>0.1020</td>\n",
       "      <td>21</td>\n",
       "    </tr>\n",
       "    <tr>\n",
       "      <th>1682</th>\n",
       "      <td>4.0</td>\n",
       "      <td>74</td>\n",
       "      <td>0.0941</td>\n",
       "      <td>0.711</td>\n",
       "      <td>183057.0</td>\n",
       "      <td>0.725</td>\n",
       "      <td>5</td>\n",
       "      <td>0.0</td>\n",
       "      <td>2022.0</td>\n",
       "      <td>0.129000</td>\n",
       "      <td>0.530</td>\n",
       "      <td>3.0</td>\n",
       "      <td>105.016</td>\n",
       "      <td>-8.315</td>\n",
       "      <td>0.4240</td>\n",
       "      <td>0.1100</td>\n",
       "      <td>21</td>\n",
       "    </tr>\n",
       "    <tr>\n",
       "      <th>1683</th>\n",
       "      <td>4.0</td>\n",
       "      <td>69</td>\n",
       "      <td>0.0929</td>\n",
       "      <td>0.724</td>\n",
       "      <td>194040.0</td>\n",
       "      <td>0.809</td>\n",
       "      <td>5</td>\n",
       "      <td>0.0</td>\n",
       "      <td>2023.0</td>\n",
       "      <td>0.000000</td>\n",
       "      <td>0.606</td>\n",
       "      <td>6.0</td>\n",
       "      <td>99.005</td>\n",
       "      <td>-5.022</td>\n",
       "      <td>0.1820</td>\n",
       "      <td>0.0765</td>\n",
       "      <td>21</td>\n",
       "    </tr>\n",
       "    <tr>\n",
       "      <th>1684</th>\n",
       "      <td>4.0</td>\n",
       "      <td>82</td>\n",
       "      <td>0.3400</td>\n",
       "      <td>0.463</td>\n",
       "      <td>189893.0</td>\n",
       "      <td>0.642</td>\n",
       "      <td>5</td>\n",
       "      <td>1.0</td>\n",
       "      <td>2022.0</td>\n",
       "      <td>0.000000</td>\n",
       "      <td>0.339</td>\n",
       "      <td>1.0</td>\n",
       "      <td>83.389</td>\n",
       "      <td>-4.474</td>\n",
       "      <td>0.3140</td>\n",
       "      <td>0.0686</td>\n",
       "      <td>12</td>\n",
       "    </tr>\n",
       "    <tr>\n",
       "      <th>1685</th>\n",
       "      <td>4.0</td>\n",
       "      <td>69</td>\n",
       "      <td>0.1280</td>\n",
       "      <td>0.645</td>\n",
       "      <td>205087.0</td>\n",
       "      <td>0.890</td>\n",
       "      <td>69</td>\n",
       "      <td>1.0</td>\n",
       "      <td>2024.0</td>\n",
       "      <td>0.000009</td>\n",
       "      <td>0.421</td>\n",
       "      <td>6.0</td>\n",
       "      <td>126.881</td>\n",
       "      <td>-4.985</td>\n",
       "      <td>0.2590</td>\n",
       "      <td>0.3760</td>\n",
       "      <td>25</td>\n",
       "    </tr>\n",
       "  </tbody>\n",
       "</table>\n",
       "<p>4831 rows × 17 columns</p>\n",
       "</div>"
      ],
      "text/plain": [
       "      time_signature  track_popularity  speechiness  danceability  \\\n",
       "0                4.0                23       0.0393         0.636   \n",
       "1                4.0                53       0.0317         0.572   \n",
       "2                4.0                55       0.0454         0.591   \n",
       "3                4.0                64       0.1010         0.443   \n",
       "4                4.0                62       0.0298         0.685   \n",
       "...              ...               ...          ...           ...   \n",
       "1681             5.0                76       0.0678         0.573   \n",
       "1682             4.0                74       0.0941         0.711   \n",
       "1683             4.0                69       0.0929         0.724   \n",
       "1684             4.0                82       0.3400         0.463   \n",
       "1685             4.0                69       0.1280         0.645   \n",
       "\n",
       "      duration_ms  energy  playlist_subgenre  mode  track_album_release_date  \\\n",
       "0        138053.0   0.746                 22   1.0                    2005.0   \n",
       "1        241600.0   0.835                 22   1.0                    2015.0   \n",
       "2        329413.0   0.804                 22   1.0                    2016.0   \n",
       "3        185160.0   0.104                 22   1.0                    2007.0   \n",
       "4        205720.0   0.472                 22   0.0                    2000.0   \n",
       "...           ...     ...                ...   ...                       ...   \n",
       "1681     184791.0   0.422                  5   0.0                    2022.0   \n",
       "1682     183057.0   0.725                  5   0.0                    2022.0   \n",
       "1683     194040.0   0.809                  5   0.0                    2023.0   \n",
       "1684     189893.0   0.642                  5   1.0                    2022.0   \n",
       "1685     205087.0   0.890                 69   1.0                    2024.0   \n",
       "\n",
       "      instrumentalness  valence   key    tempo  loudness  acousticness  \\\n",
       "0             0.290000    0.432   0.0  132.310    -3.785        0.0648   \n",
       "1             0.000377    0.795   0.0  129.981    -6.219        0.1710   \n",
       "2             0.000006    0.658   0.0  111.457    -7.299        0.3270   \n",
       "3             0.000000    0.394   0.0   76.474   -17.042        0.9130   \n",
       "4             0.284000    0.475   9.0   80.487    -9.691        0.7850   \n",
       "...                ...      ...   ...      ...       ...           ...   \n",
       "1681          0.000013    0.693  10.0  124.357    -7.621        0.5510   \n",
       "1682          0.129000    0.530   3.0  105.016    -8.315        0.4240   \n",
       "1683          0.000000    0.606   6.0   99.005    -5.022        0.1820   \n",
       "1684          0.000000    0.339   1.0   83.389    -4.474        0.3140   \n",
       "1685          0.000009    0.421   6.0  126.881    -4.985        0.2590   \n",
       "\n",
       "      liveness  track_genre_pseudo  \n",
       "0       0.1730                  29  \n",
       "1       0.0702                  29  \n",
       "2       0.0818                  29  \n",
       "3       0.1910                  18  \n",
       "4       0.2240                  18  \n",
       "...        ...                 ...  \n",
       "1681    0.1020                  21  \n",
       "1682    0.1100                  21  \n",
       "1683    0.0765                  21  \n",
       "1684    0.0686                  12  \n",
       "1685    0.3760                  25  \n",
       "\n",
       "[4831 rows x 17 columns]"
      ]
     },
     "execution_count": 35,
     "metadata": {},
     "output_type": "execute_result"
    }
   ],
   "source": [
    "df_cop"
   ]
  },
  {
   "cell_type": "code",
   "execution_count": 36,
   "metadata": {},
   "outputs": [
    {
     "data": {
      "text/plain": [
       "0        low\n",
       "1        low\n",
       "2        low\n",
       "3        low\n",
       "4        low\n",
       "        ... \n",
       "1681    high\n",
       "1682    high\n",
       "1683    high\n",
       "1684    high\n",
       "1685    high\n",
       "Name: Popularity Classification, Length: 4831, dtype: object"
      ]
     },
     "execution_count": 36,
     "metadata": {},
     "output_type": "execute_result"
    }
   ],
   "source": [
    "y"
   ]
  },
  {
   "cell_type": "code",
   "execution_count": 41,
   "metadata": {},
   "outputs": [
    {
     "data": {
      "text/plain": [
       "time_signature              0\n",
       "track_popularity            0\n",
       "speechiness                 0\n",
       "danceability                0\n",
       "duration_ms                 0\n",
       "energy                      0\n",
       "playlist_subgenre           0\n",
       "mode                        0\n",
       "track_album_release_date    0\n",
       "instrumentalness            0\n",
       "valence                     0\n",
       "key                         0\n",
       "tempo                       0\n",
       "loudness                    0\n",
       "acousticness                0\n",
       "liveness                    0\n",
       "track_genre_pseudo          0\n",
       "dtype: int64"
      ]
     },
     "execution_count": 41,
     "metadata": {},
     "output_type": "execute_result"
    }
   ],
   "source": [
    "X = df_cop.fillna(df_cop.median())\n",
    "# scaler = StandardScaler()\n",
    "# X_scaled = scaler.fit_transform(X)\n",
    "X.isnull().sum(axis = 0)"
   ]
  },
  {
   "cell_type": "code",
   "execution_count": 42,
   "metadata": {},
   "outputs": [],
   "source": [
    "from sklearn.ensemble import RandomForestClassifier\n",
    "from sklearn.metrics import accuracy_score\n",
    "from sklearn.linear_model import LogisticRegression\n",
    "from sklearn.model_selection import train_test_split"
   ]
  },
  {
   "cell_type": "code",
   "execution_count": 44,
   "metadata": {},
   "outputs": [
    {
     "name": "stderr",
     "output_type": "stream",
     "text": [
      "C:\\Users\\vinut\\AppData\\Local\\Packages\\PythonSoftwareFoundation.Python.3.11_qbz5n2kfra8p0\\LocalCache\\local-packages\\Python311\\site-packages\\sklearn\\linear_model\\_logistic.py:465: ConvergenceWarning:\n",
      "\n",
      "lbfgs failed to converge (status=1):\n",
      "STOP: TOTAL NO. OF ITERATIONS REACHED LIMIT.\n",
      "\n",
      "Increase the number of iterations (max_iter) or scale the data as shown in:\n",
      "    https://scikit-learn.org/stable/modules/preprocessing.html\n",
      "Please also refer to the documentation for alternative solver options:\n",
      "    https://scikit-learn.org/stable/modules/linear_model.html#logistic-regression\n",
      "\n"
     ]
    },
    {
     "data": {
      "text/html": [
       "<style>#sk-container-id-3 {\n",
       "  /* Definition of color scheme common for light and dark mode */\n",
       "  --sklearn-color-text: #000;\n",
       "  --sklearn-color-text-muted: #666;\n",
       "  --sklearn-color-line: gray;\n",
       "  /* Definition of color scheme for unfitted estimators */\n",
       "  --sklearn-color-unfitted-level-0: #fff5e6;\n",
       "  --sklearn-color-unfitted-level-1: #f6e4d2;\n",
       "  --sklearn-color-unfitted-level-2: #ffe0b3;\n",
       "  --sklearn-color-unfitted-level-3: chocolate;\n",
       "  /* Definition of color scheme for fitted estimators */\n",
       "  --sklearn-color-fitted-level-0: #f0f8ff;\n",
       "  --sklearn-color-fitted-level-1: #d4ebff;\n",
       "  --sklearn-color-fitted-level-2: #b3dbfd;\n",
       "  --sklearn-color-fitted-level-3: cornflowerblue;\n",
       "\n",
       "  /* Specific color for light theme */\n",
       "  --sklearn-color-text-on-default-background: var(--sg-text-color, var(--theme-code-foreground, var(--jp-content-font-color1, black)));\n",
       "  --sklearn-color-background: var(--sg-background-color, var(--theme-background, var(--jp-layout-color0, white)));\n",
       "  --sklearn-color-border-box: var(--sg-text-color, var(--theme-code-foreground, var(--jp-content-font-color1, black)));\n",
       "  --sklearn-color-icon: #696969;\n",
       "\n",
       "  @media (prefers-color-scheme: dark) {\n",
       "    /* Redefinition of color scheme for dark theme */\n",
       "    --sklearn-color-text-on-default-background: var(--sg-text-color, var(--theme-code-foreground, var(--jp-content-font-color1, white)));\n",
       "    --sklearn-color-background: var(--sg-background-color, var(--theme-background, var(--jp-layout-color0, #111)));\n",
       "    --sklearn-color-border-box: var(--sg-text-color, var(--theme-code-foreground, var(--jp-content-font-color1, white)));\n",
       "    --sklearn-color-icon: #878787;\n",
       "  }\n",
       "}\n",
       "\n",
       "#sk-container-id-3 {\n",
       "  color: var(--sklearn-color-text);\n",
       "}\n",
       "\n",
       "#sk-container-id-3 pre {\n",
       "  padding: 0;\n",
       "}\n",
       "\n",
       "#sk-container-id-3 input.sk-hidden--visually {\n",
       "  border: 0;\n",
       "  clip: rect(1px 1px 1px 1px);\n",
       "  clip: rect(1px, 1px, 1px, 1px);\n",
       "  height: 1px;\n",
       "  margin: -1px;\n",
       "  overflow: hidden;\n",
       "  padding: 0;\n",
       "  position: absolute;\n",
       "  width: 1px;\n",
       "}\n",
       "\n",
       "#sk-container-id-3 div.sk-dashed-wrapped {\n",
       "  border: 1px dashed var(--sklearn-color-line);\n",
       "  margin: 0 0.4em 0.5em 0.4em;\n",
       "  box-sizing: border-box;\n",
       "  padding-bottom: 0.4em;\n",
       "  background-color: var(--sklearn-color-background);\n",
       "}\n",
       "\n",
       "#sk-container-id-3 div.sk-container {\n",
       "  /* jupyter's `normalize.less` sets `[hidden] { display: none; }`\n",
       "     but bootstrap.min.css set `[hidden] { display: none !important; }`\n",
       "     so we also need the `!important` here to be able to override the\n",
       "     default hidden behavior on the sphinx rendered scikit-learn.org.\n",
       "     See: https://github.com/scikit-learn/scikit-learn/issues/21755 */\n",
       "  display: inline-block !important;\n",
       "  position: relative;\n",
       "}\n",
       "\n",
       "#sk-container-id-3 div.sk-text-repr-fallback {\n",
       "  display: none;\n",
       "}\n",
       "\n",
       "div.sk-parallel-item,\n",
       "div.sk-serial,\n",
       "div.sk-item {\n",
       "  /* draw centered vertical line to link estimators */\n",
       "  background-image: linear-gradient(var(--sklearn-color-text-on-default-background), var(--sklearn-color-text-on-default-background));\n",
       "  background-size: 2px 100%;\n",
       "  background-repeat: no-repeat;\n",
       "  background-position: center center;\n",
       "}\n",
       "\n",
       "/* Parallel-specific style estimator block */\n",
       "\n",
       "#sk-container-id-3 div.sk-parallel-item::after {\n",
       "  content: \"\";\n",
       "  width: 100%;\n",
       "  border-bottom: 2px solid var(--sklearn-color-text-on-default-background);\n",
       "  flex-grow: 1;\n",
       "}\n",
       "\n",
       "#sk-container-id-3 div.sk-parallel {\n",
       "  display: flex;\n",
       "  align-items: stretch;\n",
       "  justify-content: center;\n",
       "  background-color: var(--sklearn-color-background);\n",
       "  position: relative;\n",
       "}\n",
       "\n",
       "#sk-container-id-3 div.sk-parallel-item {\n",
       "  display: flex;\n",
       "  flex-direction: column;\n",
       "}\n",
       "\n",
       "#sk-container-id-3 div.sk-parallel-item:first-child::after {\n",
       "  align-self: flex-end;\n",
       "  width: 50%;\n",
       "}\n",
       "\n",
       "#sk-container-id-3 div.sk-parallel-item:last-child::after {\n",
       "  align-self: flex-start;\n",
       "  width: 50%;\n",
       "}\n",
       "\n",
       "#sk-container-id-3 div.sk-parallel-item:only-child::after {\n",
       "  width: 0;\n",
       "}\n",
       "\n",
       "/* Serial-specific style estimator block */\n",
       "\n",
       "#sk-container-id-3 div.sk-serial {\n",
       "  display: flex;\n",
       "  flex-direction: column;\n",
       "  align-items: center;\n",
       "  background-color: var(--sklearn-color-background);\n",
       "  padding-right: 1em;\n",
       "  padding-left: 1em;\n",
       "}\n",
       "\n",
       "\n",
       "/* Toggleable style: style used for estimator/Pipeline/ColumnTransformer box that is\n",
       "clickable and can be expanded/collapsed.\n",
       "- Pipeline and ColumnTransformer use this feature and define the default style\n",
       "- Estimators will overwrite some part of the style using the `sk-estimator` class\n",
       "*/\n",
       "\n",
       "/* Pipeline and ColumnTransformer style (default) */\n",
       "\n",
       "#sk-container-id-3 div.sk-toggleable {\n",
       "  /* Default theme specific background. It is overwritten whether we have a\n",
       "  specific estimator or a Pipeline/ColumnTransformer */\n",
       "  background-color: var(--sklearn-color-background);\n",
       "}\n",
       "\n",
       "/* Toggleable label */\n",
       "#sk-container-id-3 label.sk-toggleable__label {\n",
       "  cursor: pointer;\n",
       "  display: flex;\n",
       "  width: 100%;\n",
       "  margin-bottom: 0;\n",
       "  padding: 0.5em;\n",
       "  box-sizing: border-box;\n",
       "  text-align: center;\n",
       "  align-items: start;\n",
       "  justify-content: space-between;\n",
       "  gap: 0.5em;\n",
       "}\n",
       "\n",
       "#sk-container-id-3 label.sk-toggleable__label .caption {\n",
       "  font-size: 0.6rem;\n",
       "  font-weight: lighter;\n",
       "  color: var(--sklearn-color-text-muted);\n",
       "}\n",
       "\n",
       "#sk-container-id-3 label.sk-toggleable__label-arrow:before {\n",
       "  /* Arrow on the left of the label */\n",
       "  content: \"▸\";\n",
       "  float: left;\n",
       "  margin-right: 0.25em;\n",
       "  color: var(--sklearn-color-icon);\n",
       "}\n",
       "\n",
       "#sk-container-id-3 label.sk-toggleable__label-arrow:hover:before {\n",
       "  color: var(--sklearn-color-text);\n",
       "}\n",
       "\n",
       "/* Toggleable content - dropdown */\n",
       "\n",
       "#sk-container-id-3 div.sk-toggleable__content {\n",
       "  max-height: 0;\n",
       "  max-width: 0;\n",
       "  overflow: hidden;\n",
       "  text-align: left;\n",
       "  /* unfitted */\n",
       "  background-color: var(--sklearn-color-unfitted-level-0);\n",
       "}\n",
       "\n",
       "#sk-container-id-3 div.sk-toggleable__content.fitted {\n",
       "  /* fitted */\n",
       "  background-color: var(--sklearn-color-fitted-level-0);\n",
       "}\n",
       "\n",
       "#sk-container-id-3 div.sk-toggleable__content pre {\n",
       "  margin: 0.2em;\n",
       "  border-radius: 0.25em;\n",
       "  color: var(--sklearn-color-text);\n",
       "  /* unfitted */\n",
       "  background-color: var(--sklearn-color-unfitted-level-0);\n",
       "}\n",
       "\n",
       "#sk-container-id-3 div.sk-toggleable__content.fitted pre {\n",
       "  /* unfitted */\n",
       "  background-color: var(--sklearn-color-fitted-level-0);\n",
       "}\n",
       "\n",
       "#sk-container-id-3 input.sk-toggleable__control:checked~div.sk-toggleable__content {\n",
       "  /* Expand drop-down */\n",
       "  max-height: 200px;\n",
       "  max-width: 100%;\n",
       "  overflow: auto;\n",
       "}\n",
       "\n",
       "#sk-container-id-3 input.sk-toggleable__control:checked~label.sk-toggleable__label-arrow:before {\n",
       "  content: \"▾\";\n",
       "}\n",
       "\n",
       "/* Pipeline/ColumnTransformer-specific style */\n",
       "\n",
       "#sk-container-id-3 div.sk-label input.sk-toggleable__control:checked~label.sk-toggleable__label {\n",
       "  color: var(--sklearn-color-text);\n",
       "  background-color: var(--sklearn-color-unfitted-level-2);\n",
       "}\n",
       "\n",
       "#sk-container-id-3 div.sk-label.fitted input.sk-toggleable__control:checked~label.sk-toggleable__label {\n",
       "  background-color: var(--sklearn-color-fitted-level-2);\n",
       "}\n",
       "\n",
       "/* Estimator-specific style */\n",
       "\n",
       "/* Colorize estimator box */\n",
       "#sk-container-id-3 div.sk-estimator input.sk-toggleable__control:checked~label.sk-toggleable__label {\n",
       "  /* unfitted */\n",
       "  background-color: var(--sklearn-color-unfitted-level-2);\n",
       "}\n",
       "\n",
       "#sk-container-id-3 div.sk-estimator.fitted input.sk-toggleable__control:checked~label.sk-toggleable__label {\n",
       "  /* fitted */\n",
       "  background-color: var(--sklearn-color-fitted-level-2);\n",
       "}\n",
       "\n",
       "#sk-container-id-3 div.sk-label label.sk-toggleable__label,\n",
       "#sk-container-id-3 div.sk-label label {\n",
       "  /* The background is the default theme color */\n",
       "  color: var(--sklearn-color-text-on-default-background);\n",
       "}\n",
       "\n",
       "/* On hover, darken the color of the background */\n",
       "#sk-container-id-3 div.sk-label:hover label.sk-toggleable__label {\n",
       "  color: var(--sklearn-color-text);\n",
       "  background-color: var(--sklearn-color-unfitted-level-2);\n",
       "}\n",
       "\n",
       "/* Label box, darken color on hover, fitted */\n",
       "#sk-container-id-3 div.sk-label.fitted:hover label.sk-toggleable__label.fitted {\n",
       "  color: var(--sklearn-color-text);\n",
       "  background-color: var(--sklearn-color-fitted-level-2);\n",
       "}\n",
       "\n",
       "/* Estimator label */\n",
       "\n",
       "#sk-container-id-3 div.sk-label label {\n",
       "  font-family: monospace;\n",
       "  font-weight: bold;\n",
       "  display: inline-block;\n",
       "  line-height: 1.2em;\n",
       "}\n",
       "\n",
       "#sk-container-id-3 div.sk-label-container {\n",
       "  text-align: center;\n",
       "}\n",
       "\n",
       "/* Estimator-specific */\n",
       "#sk-container-id-3 div.sk-estimator {\n",
       "  font-family: monospace;\n",
       "  border: 1px dotted var(--sklearn-color-border-box);\n",
       "  border-radius: 0.25em;\n",
       "  box-sizing: border-box;\n",
       "  margin-bottom: 0.5em;\n",
       "  /* unfitted */\n",
       "  background-color: var(--sklearn-color-unfitted-level-0);\n",
       "}\n",
       "\n",
       "#sk-container-id-3 div.sk-estimator.fitted {\n",
       "  /* fitted */\n",
       "  background-color: var(--sklearn-color-fitted-level-0);\n",
       "}\n",
       "\n",
       "/* on hover */\n",
       "#sk-container-id-3 div.sk-estimator:hover {\n",
       "  /* unfitted */\n",
       "  background-color: var(--sklearn-color-unfitted-level-2);\n",
       "}\n",
       "\n",
       "#sk-container-id-3 div.sk-estimator.fitted:hover {\n",
       "  /* fitted */\n",
       "  background-color: var(--sklearn-color-fitted-level-2);\n",
       "}\n",
       "\n",
       "/* Specification for estimator info (e.g. \"i\" and \"?\") */\n",
       "\n",
       "/* Common style for \"i\" and \"?\" */\n",
       "\n",
       ".sk-estimator-doc-link,\n",
       "a:link.sk-estimator-doc-link,\n",
       "a:visited.sk-estimator-doc-link {\n",
       "  float: right;\n",
       "  font-size: smaller;\n",
       "  line-height: 1em;\n",
       "  font-family: monospace;\n",
       "  background-color: var(--sklearn-color-background);\n",
       "  border-radius: 1em;\n",
       "  height: 1em;\n",
       "  width: 1em;\n",
       "  text-decoration: none !important;\n",
       "  margin-left: 0.5em;\n",
       "  text-align: center;\n",
       "  /* unfitted */\n",
       "  border: var(--sklearn-color-unfitted-level-1) 1pt solid;\n",
       "  color: var(--sklearn-color-unfitted-level-1);\n",
       "}\n",
       "\n",
       ".sk-estimator-doc-link.fitted,\n",
       "a:link.sk-estimator-doc-link.fitted,\n",
       "a:visited.sk-estimator-doc-link.fitted {\n",
       "  /* fitted */\n",
       "  border: var(--sklearn-color-fitted-level-1) 1pt solid;\n",
       "  color: var(--sklearn-color-fitted-level-1);\n",
       "}\n",
       "\n",
       "/* On hover */\n",
       "div.sk-estimator:hover .sk-estimator-doc-link:hover,\n",
       ".sk-estimator-doc-link:hover,\n",
       "div.sk-label-container:hover .sk-estimator-doc-link:hover,\n",
       ".sk-estimator-doc-link:hover {\n",
       "  /* unfitted */\n",
       "  background-color: var(--sklearn-color-unfitted-level-3);\n",
       "  color: var(--sklearn-color-background);\n",
       "  text-decoration: none;\n",
       "}\n",
       "\n",
       "div.sk-estimator.fitted:hover .sk-estimator-doc-link.fitted:hover,\n",
       ".sk-estimator-doc-link.fitted:hover,\n",
       "div.sk-label-container:hover .sk-estimator-doc-link.fitted:hover,\n",
       ".sk-estimator-doc-link.fitted:hover {\n",
       "  /* fitted */\n",
       "  background-color: var(--sklearn-color-fitted-level-3);\n",
       "  color: var(--sklearn-color-background);\n",
       "  text-decoration: none;\n",
       "}\n",
       "\n",
       "/* Span, style for the box shown on hovering the info icon */\n",
       ".sk-estimator-doc-link span {\n",
       "  display: none;\n",
       "  z-index: 9999;\n",
       "  position: relative;\n",
       "  font-weight: normal;\n",
       "  right: .2ex;\n",
       "  padding: .5ex;\n",
       "  margin: .5ex;\n",
       "  width: min-content;\n",
       "  min-width: 20ex;\n",
       "  max-width: 50ex;\n",
       "  color: var(--sklearn-color-text);\n",
       "  box-shadow: 2pt 2pt 4pt #999;\n",
       "  /* unfitted */\n",
       "  background: var(--sklearn-color-unfitted-level-0);\n",
       "  border: .5pt solid var(--sklearn-color-unfitted-level-3);\n",
       "}\n",
       "\n",
       ".sk-estimator-doc-link.fitted span {\n",
       "  /* fitted */\n",
       "  background: var(--sklearn-color-fitted-level-0);\n",
       "  border: var(--sklearn-color-fitted-level-3);\n",
       "}\n",
       "\n",
       ".sk-estimator-doc-link:hover span {\n",
       "  display: block;\n",
       "}\n",
       "\n",
       "/* \"?\"-specific style due to the `<a>` HTML tag */\n",
       "\n",
       "#sk-container-id-3 a.estimator_doc_link {\n",
       "  float: right;\n",
       "  font-size: 1rem;\n",
       "  line-height: 1em;\n",
       "  font-family: monospace;\n",
       "  background-color: var(--sklearn-color-background);\n",
       "  border-radius: 1rem;\n",
       "  height: 1rem;\n",
       "  width: 1rem;\n",
       "  text-decoration: none;\n",
       "  /* unfitted */\n",
       "  color: var(--sklearn-color-unfitted-level-1);\n",
       "  border: var(--sklearn-color-unfitted-level-1) 1pt solid;\n",
       "}\n",
       "\n",
       "#sk-container-id-3 a.estimator_doc_link.fitted {\n",
       "  /* fitted */\n",
       "  border: var(--sklearn-color-fitted-level-1) 1pt solid;\n",
       "  color: var(--sklearn-color-fitted-level-1);\n",
       "}\n",
       "\n",
       "/* On hover */\n",
       "#sk-container-id-3 a.estimator_doc_link:hover {\n",
       "  /* unfitted */\n",
       "  background-color: var(--sklearn-color-unfitted-level-3);\n",
       "  color: var(--sklearn-color-background);\n",
       "  text-decoration: none;\n",
       "}\n",
       "\n",
       "#sk-container-id-3 a.estimator_doc_link.fitted:hover {\n",
       "  /* fitted */\n",
       "  background-color: var(--sklearn-color-fitted-level-3);\n",
       "}\n",
       "</style><div id=\"sk-container-id-3\" class=\"sk-top-container\"><div class=\"sk-text-repr-fallback\"><pre>LogisticRegression(max_iter=500)</pre><b>In a Jupyter environment, please rerun this cell to show the HTML representation or trust the notebook. <br />On GitHub, the HTML representation is unable to render, please try loading this page with nbviewer.org.</b></div><div class=\"sk-container\" hidden><div class=\"sk-item\"><div class=\"sk-estimator fitted sk-toggleable\"><input class=\"sk-toggleable__control sk-hidden--visually\" id=\"sk-estimator-id-3\" type=\"checkbox\" checked><label for=\"sk-estimator-id-3\" class=\"sk-toggleable__label fitted sk-toggleable__label-arrow\"><div><div>LogisticRegression</div></div><div><a class=\"sk-estimator-doc-link fitted\" rel=\"noreferrer\" target=\"_blank\" href=\"https://scikit-learn.org/1.6/modules/generated/sklearn.linear_model.LogisticRegression.html\">?<span>Documentation for LogisticRegression</span></a><span class=\"sk-estimator-doc-link fitted\">i<span>Fitted</span></span></div></label><div class=\"sk-toggleable__content fitted\"><pre>LogisticRegression(max_iter=500)</pre></div> </div></div></div></div>"
      ],
      "text/plain": [
       "LogisticRegression(max_iter=500)"
      ]
     },
     "execution_count": 44,
     "metadata": {},
     "output_type": "execute_result"
    }
   ],
   "source": [
    "X_train, X_test, y_train, y_test = train_test_split(X, y, test_size=0.2, random_state=42)\n",
    "\n",
    "scaler = StandardScaler()\n",
    "train_x_scaled = scaler.fit_transform(X_train)  \n",
    "test_x_scaled = scaler.transform(X_test)\n",
    "\n",
    "model = LogisticRegression(max_iter=500)\n",
    "model.fit(X_train, y_train)"
   ]
  },
  {
   "cell_type": "code",
   "execution_count": 45,
   "metadata": {},
   "outputs": [
    {
     "data": {
      "text/plain": [
       "0.921406411582213"
      ]
     },
     "execution_count": 45,
     "metadata": {},
     "output_type": "execute_result"
    }
   ],
   "source": [
    "y_pred = model.predict(X_test)\n",
    "accuracy = accuracy_score(y_test, y_pred)\n",
    "accuracy"
   ]
  },
  {
   "cell_type": "code",
   "execution_count": null,
   "metadata": {},
   "outputs": [],
   "source": []
  },
  {
   "cell_type": "code",
   "execution_count": null,
   "metadata": {},
   "outputs": [],
   "source": []
  }
 ],
 "metadata": {
  "kernelspec": {
   "display_name": "Python 3",
   "language": "python",
   "name": "python3"
  },
  "language_info": {
   "codemirror_mode": {
    "name": "ipython",
    "version": 3
   },
   "file_extension": ".py",
   "mimetype": "text/x-python",
   "name": "python",
   "nbconvert_exporter": "python",
   "pygments_lexer": "ipython3",
   "version": "3.11.9"
  }
 },
 "nbformat": 4,
 "nbformat_minor": 2
}
